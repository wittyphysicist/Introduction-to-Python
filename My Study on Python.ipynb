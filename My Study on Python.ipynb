{
 "cells": [
  {
   "cell_type": "markdown",
   "metadata": {},
   "source": [
    "Check the link to use Jupyter: https://www.dataquest.io/blog/jupyter-notebook-tutorial/"
   ]
  },
  {
   "cell_type": "markdown",
   "metadata": {},
   "source": [
    "**fn + ins/prt sc** turns on/off the overwrite mode"
   ]
  },
  {
   "cell_type": "markdown",
   "metadata": {},
   "source": [
    "Python is an interpreted language in the sense that you don't have to run Python programs without link or compile them. It has two different modes: Standard and interactive mode."
   ]
  },
  {
   "cell_type": "markdown",
   "metadata": {},
   "source": [
    "Putting **whitespace** before codes by pressing **tab** button is important."
   ]
  },
  {
   "cell_type": "markdown",
   "metadata": {},
   "source": [
    "### An Informative and Funny Story\n",
    "\n",
    "I was trying to turn an integer into string like str(3) but I couldn't. I typed print(str) and got some numbers as the output. I understood that the problem was that **I defined previously a variable called 'str'**. However, I couldn't find the variable anywhere in the kernel. The problem was even though I deleted the variable, **the kernel still remembers** it. Thus, I restarted the kernel and voila! The problem was solved."
   ]
  },
  {
   "cell_type": "markdown",
   "metadata": {},
   "source": [
    "### Basics\n",
    "\n",
    "* For comments put #,\n",
    "\n",
    "* For multi-comments put ''' ''' or \"\"\" \"\"\"\"\n",
    "\n",
    "* For exponentiation, put ** symbol between numbers.\n",
    "\n",
    "* For remainder from a division, put % symbol between numbers.\n",
    "\n",
    "* For *equal to* or *not equal to*, put == or != symbol\n",
    "\n",
    "* Use >=,<= for *less/greater or equal to*\n",
    "\n",
    "* You're allowed to reassign a variable in terms of itself such as number = number ** 2\n",
    "\n",
    "* If Pyhton thinks an apostrophe(‘) as the end the string, put \\ symbol before the apostrophe such as ’There\\’s a snake in my boot’\n",
    "\n",
    "* i = i + 1   <->   i += 1 &&&&&& x = x*2   <->   x *= 2\n"
   ]
  },
  {
   "cell_type": "code",
   "execution_count": 3,
   "metadata": {},
   "outputs": [
    {
     "name": "stdout",
     "output_type": "stream",
     "text": [
      "Help on class str in module builtins:\n",
      "\n",
      "class str(object)\n",
      " |  str(object='') -> str\n",
      " |  str(bytes_or_buffer[, encoding[, errors]]) -> str\n",
      " |  \n",
      " |  Create a new string object from the given object. If encoding or\n",
      " |  errors is specified, then the object must expose a data buffer\n",
      " |  that will be decoded using the given encoding and error handler.\n",
      " |  Otherwise, returns the result of object.__str__() (if defined)\n",
      " |  or repr(object).\n",
      " |  encoding defaults to sys.getdefaultencoding().\n",
      " |  errors defaults to 'strict'.\n",
      " |  \n",
      " |  Methods defined here:\n",
      " |  \n",
      " |  __add__(self, value, /)\n",
      " |      Return self+value.\n",
      " |  \n",
      " |  __contains__(self, key, /)\n",
      " |      Return key in self.\n",
      " |  \n",
      " |  __eq__(self, value, /)\n",
      " |      Return self==value.\n",
      " |  \n",
      " |  __format__(self, format_spec, /)\n",
      " |      Return a formatted version of the string as described by format_spec.\n",
      " |  \n",
      " |  __ge__(self, value, /)\n",
      " |      Return self>=value.\n",
      " |  \n",
      " |  __getattribute__(self, name, /)\n",
      " |      Return getattr(self, name).\n",
      " |  \n",
      " |  __getitem__(self, key, /)\n",
      " |      Return self[key].\n",
      " |  \n",
      " |  __getnewargs__(...)\n",
      " |  \n",
      " |  __gt__(self, value, /)\n",
      " |      Return self>value.\n",
      " |  \n",
      " |  __hash__(self, /)\n",
      " |      Return hash(self).\n",
      " |  \n",
      " |  __iter__(self, /)\n",
      " |      Implement iter(self).\n",
      " |  \n",
      " |  __le__(self, value, /)\n",
      " |      Return self<=value.\n",
      " |  \n",
      " |  __len__(self, /)\n",
      " |      Return len(self).\n",
      " |  \n",
      " |  __lt__(self, value, /)\n",
      " |      Return self<value.\n",
      " |  \n",
      " |  __mod__(self, value, /)\n",
      " |      Return self%value.\n",
      " |  \n",
      " |  __mul__(self, value, /)\n",
      " |      Return self*value.\n",
      " |  \n",
      " |  __ne__(self, value, /)\n",
      " |      Return self!=value.\n",
      " |  \n",
      " |  __repr__(self, /)\n",
      " |      Return repr(self).\n",
      " |  \n",
      " |  __rmod__(self, value, /)\n",
      " |      Return value%self.\n",
      " |  \n",
      " |  __rmul__(self, value, /)\n",
      " |      Return value*self.\n",
      " |  \n",
      " |  __sizeof__(self, /)\n",
      " |      Return the size of the string in memory, in bytes.\n",
      " |  \n",
      " |  __str__(self, /)\n",
      " |      Return str(self).\n",
      " |  \n",
      " |  capitalize(self, /)\n",
      " |      Return a capitalized version of the string.\n",
      " |      \n",
      " |      More specifically, make the first character have upper case and the rest lower\n",
      " |      case.\n",
      " |  \n",
      " |  casefold(self, /)\n",
      " |      Return a version of the string suitable for caseless comparisons.\n",
      " |  \n",
      " |  center(self, width, fillchar=' ', /)\n",
      " |      Return a centered string of length width.\n",
      " |      \n",
      " |      Padding is done using the specified fill character (default is a space).\n",
      " |  \n",
      " |  count(...)\n",
      " |      S.count(sub[, start[, end]]) -> int\n",
      " |      \n",
      " |      Return the number of non-overlapping occurrences of substring sub in\n",
      " |      string S[start:end].  Optional arguments start and end are\n",
      " |      interpreted as in slice notation.\n",
      " |  \n",
      " |  encode(self, /, encoding='utf-8', errors='strict')\n",
      " |      Encode the string using the codec registered for encoding.\n",
      " |      \n",
      " |      encoding\n",
      " |        The encoding in which to encode the string.\n",
      " |      errors\n",
      " |        The error handling scheme to use for encoding errors.\n",
      " |        The default is 'strict' meaning that encoding errors raise a\n",
      " |        UnicodeEncodeError.  Other possible values are 'ignore', 'replace' and\n",
      " |        'xmlcharrefreplace' as well as any other name registered with\n",
      " |        codecs.register_error that can handle UnicodeEncodeErrors.\n",
      " |  \n",
      " |  endswith(...)\n",
      " |      S.endswith(suffix[, start[, end]]) -> bool\n",
      " |      \n",
      " |      Return True if S ends with the specified suffix, False otherwise.\n",
      " |      With optional start, test S beginning at that position.\n",
      " |      With optional end, stop comparing S at that position.\n",
      " |      suffix can also be a tuple of strings to try.\n",
      " |  \n",
      " |  expandtabs(self, /, tabsize=8)\n",
      " |      Return a copy where all tab characters are expanded using spaces.\n",
      " |      \n",
      " |      If tabsize is not given, a tab size of 8 characters is assumed.\n",
      " |  \n",
      " |  find(...)\n",
      " |      S.find(sub[, start[, end]]) -> int\n",
      " |      \n",
      " |      Return the lowest index in S where substring sub is found,\n",
      " |      such that sub is contained within S[start:end].  Optional\n",
      " |      arguments start and end are interpreted as in slice notation.\n",
      " |      \n",
      " |      Return -1 on failure.\n",
      " |  \n",
      " |  format(...)\n",
      " |      S.format(*args, **kwargs) -> str\n",
      " |      \n",
      " |      Return a formatted version of S, using substitutions from args and kwargs.\n",
      " |      The substitutions are identified by braces ('{' and '}').\n",
      " |  \n",
      " |  format_map(...)\n",
      " |      S.format_map(mapping) -> str\n",
      " |      \n",
      " |      Return a formatted version of S, using substitutions from mapping.\n",
      " |      The substitutions are identified by braces ('{' and '}').\n",
      " |  \n",
      " |  index(...)\n",
      " |      S.index(sub[, start[, end]]) -> int\n",
      " |      \n",
      " |      Return the lowest index in S where substring sub is found,\n",
      " |      such that sub is contained within S[start:end].  Optional\n",
      " |      arguments start and end are interpreted as in slice notation.\n",
      " |      \n",
      " |      Raises ValueError when the substring is not found.\n",
      " |  \n",
      " |  isalnum(self, /)\n",
      " |      Return True if the string is an alpha-numeric string, False otherwise.\n",
      " |      \n",
      " |      A string is alpha-numeric if all characters in the string are alpha-numeric and\n",
      " |      there is at least one character in the string.\n",
      " |  \n",
      " |  isalpha(self, /)\n",
      " |      Return True if the string is an alphabetic string, False otherwise.\n",
      " |      \n",
      " |      A string is alphabetic if all characters in the string are alphabetic and there\n",
      " |      is at least one character in the string.\n",
      " |  \n",
      " |  isascii(self, /)\n",
      " |      Return True if all characters in the string are ASCII, False otherwise.\n",
      " |      \n",
      " |      ASCII characters have code points in the range U+0000-U+007F.\n",
      " |      Empty string is ASCII too.\n",
      " |  \n",
      " |  isdecimal(self, /)\n",
      " |      Return True if the string is a decimal string, False otherwise.\n",
      " |      \n",
      " |      A string is a decimal string if all characters in the string are decimal and\n",
      " |      there is at least one character in the string.\n",
      " |  \n",
      " |  isdigit(self, /)\n",
      " |      Return True if the string is a digit string, False otherwise.\n",
      " |      \n",
      " |      A string is a digit string if all characters in the string are digits and there\n",
      " |      is at least one character in the string.\n",
      " |  \n",
      " |  isidentifier(self, /)\n",
      " |      Return True if the string is a valid Python identifier, False otherwise.\n",
      " |      \n",
      " |      Call keyword.iskeyword(s) to test whether string s is a reserved identifier,\n",
      " |      such as \"def\" or \"class\".\n",
      " |  \n",
      " |  islower(self, /)\n",
      " |      Return True if the string is a lowercase string, False otherwise.\n",
      " |      \n",
      " |      A string is lowercase if all cased characters in the string are lowercase and\n",
      " |      there is at least one cased character in the string.\n",
      " |  \n",
      " |  isnumeric(self, /)\n",
      " |      Return True if the string is a numeric string, False otherwise.\n",
      " |      \n",
      " |      A string is numeric if all characters in the string are numeric and there is at\n",
      " |      least one character in the string.\n",
      " |  \n",
      " |  isprintable(self, /)\n",
      " |      Return True if the string is printable, False otherwise.\n",
      " |      \n",
      " |      A string is printable if all of its characters are considered printable in\n",
      " |      repr() or if it is empty.\n",
      " |  \n",
      " |  isspace(self, /)\n",
      " |      Return True if the string is a whitespace string, False otherwise.\n",
      " |      \n",
      " |      A string is whitespace if all characters in the string are whitespace and there\n",
      " |      is at least one character in the string.\n",
      " |  \n",
      " |  istitle(self, /)\n",
      " |      Return True if the string is a title-cased string, False otherwise.\n",
      " |      \n",
      " |      In a title-cased string, upper- and title-case characters may only\n",
      " |      follow uncased characters and lowercase characters only cased ones.\n",
      " |  \n",
      " |  isupper(self, /)\n",
      " |      Return True if the string is an uppercase string, False otherwise.\n",
      " |      \n",
      " |      A string is uppercase if all cased characters in the string are uppercase and\n",
      " |      there is at least one cased character in the string.\n",
      " |  \n",
      " |  join(self, iterable, /)\n",
      " |      Concatenate any number of strings.\n",
      " |      \n",
      " |      The string whose method is called is inserted in between each given string.\n",
      " |      The result is returned as a new string.\n",
      " |      \n",
      " |      Example: '.'.join(['ab', 'pq', 'rs']) -> 'ab.pq.rs'\n",
      " |  \n",
      " |  ljust(self, width, fillchar=' ', /)\n",
      " |      Return a left-justified string of length width.\n",
      " |      \n",
      " |      Padding is done using the specified fill character (default is a space).\n",
      " |  \n",
      " |  lower(self, /)\n",
      " |      Return a copy of the string converted to lowercase.\n",
      " |  \n",
      " |  lstrip(self, chars=None, /)\n",
      " |      Return a copy of the string with leading whitespace removed.\n",
      " |      \n",
      " |      If chars is given and not None, remove characters in chars instead.\n",
      " |  \n",
      " |  partition(self, sep, /)\n",
      " |      Partition the string into three parts using the given separator.\n",
      " |      \n",
      " |      This will search for the separator in the string.  If the separator is found,\n",
      " |      returns a 3-tuple containing the part before the separator, the separator\n",
      " |      itself, and the part after it.\n",
      " |      \n",
      " |      If the separator is not found, returns a 3-tuple containing the original string\n",
      " |      and two empty strings.\n",
      " |  \n",
      " |  replace(self, old, new, count=-1, /)\n",
      " |      Return a copy with all occurrences of substring old replaced by new.\n",
      " |      \n",
      " |        count\n",
      " |          Maximum number of occurrences to replace.\n",
      " |          -1 (the default value) means replace all occurrences.\n",
      " |      \n",
      " |      If the optional argument count is given, only the first count occurrences are\n",
      " |      replaced.\n",
      " |  \n",
      " |  rfind(...)\n",
      " |      S.rfind(sub[, start[, end]]) -> int\n",
      " |      \n",
      " |      Return the highest index in S where substring sub is found,\n",
      " |      such that sub is contained within S[start:end].  Optional\n",
      " |      arguments start and end are interpreted as in slice notation.\n",
      " |      \n",
      " |      Return -1 on failure.\n",
      " |  \n",
      " |  rindex(...)\n",
      " |      S.rindex(sub[, start[, end]]) -> int\n",
      " |      \n",
      " |      Return the highest index in S where substring sub is found,\n",
      " |      such that sub is contained within S[start:end].  Optional\n",
      " |      arguments start and end are interpreted as in slice notation.\n",
      " |      \n",
      " |      Raises ValueError when the substring is not found.\n",
      " |  \n",
      " |  rjust(self, width, fillchar=' ', /)\n",
      " |      Return a right-justified string of length width.\n",
      " |      \n",
      " |      Padding is done using the specified fill character (default is a space).\n",
      " |  \n",
      " |  rpartition(self, sep, /)\n",
      " |      Partition the string into three parts using the given separator.\n",
      " |      \n",
      " |      This will search for the separator in the string, starting at the end. If\n",
      " |      the separator is found, returns a 3-tuple containing the part before the\n",
      " |      separator, the separator itself, and the part after it.\n",
      " |      \n",
      " |      If the separator is not found, returns a 3-tuple containing two empty strings\n",
      " |      and the original string.\n",
      " |  \n",
      " |  rsplit(self, /, sep=None, maxsplit=-1)\n",
      " |      Return a list of the words in the string, using sep as the delimiter string.\n",
      " |      \n",
      " |        sep\n",
      " |          The delimiter according which to split the string.\n",
      " |          None (the default value) means split according to any whitespace,\n",
      " |          and discard empty strings from the result.\n",
      " |        maxsplit\n",
      " |          Maximum number of splits to do.\n",
      " |          -1 (the default value) means no limit.\n",
      " |      \n",
      " |      Splits are done starting at the end of the string and working to the front.\n",
      " |  \n",
      " |  rstrip(self, chars=None, /)\n",
      " |      Return a copy of the string with trailing whitespace removed.\n",
      " |      \n",
      " |      If chars is given and not None, remove characters in chars instead.\n",
      " |  \n",
      " |  split(self, /, sep=None, maxsplit=-1)\n",
      " |      Return a list of the words in the string, using sep as the delimiter string.\n",
      " |      \n",
      " |      sep\n",
      " |        The delimiter according which to split the string.\n",
      " |        None (the default value) means split according to any whitespace,\n",
      " |        and discard empty strings from the result.\n",
      " |      maxsplit\n",
      " |        Maximum number of splits to do.\n",
      " |        -1 (the default value) means no limit.\n",
      " |  \n",
      " |  splitlines(self, /, keepends=False)\n",
      " |      Return a list of the lines in the string, breaking at line boundaries.\n",
      " |      \n",
      " |      Line breaks are not included in the resulting list unless keepends is given and\n",
      " |      true.\n",
      " |  \n",
      " |  startswith(...)\n",
      " |      S.startswith(prefix[, start[, end]]) -> bool\n",
      " |      \n",
      " |      Return True if S starts with the specified prefix, False otherwise.\n",
      " |      With optional start, test S beginning at that position.\n",
      " |      With optional end, stop comparing S at that position.\n",
      " |      prefix can also be a tuple of strings to try.\n",
      " |  \n",
      " |  strip(self, chars=None, /)\n",
      " |      Return a copy of the string with leading and trailing whitespace removed.\n",
      " |      \n",
      " |      If chars is given and not None, remove characters in chars instead.\n",
      " |  \n",
      " |  swapcase(self, /)\n",
      " |      Convert uppercase characters to lowercase and lowercase characters to uppercase.\n",
      " |  \n",
      " |  title(self, /)\n",
      " |      Return a version of the string where each word is titlecased.\n",
      " |      \n",
      " |      More specifically, words start with uppercased characters and all remaining\n",
      " |      cased characters have lower case.\n",
      " |  \n",
      " |  translate(self, table, /)\n",
      " |      Replace each character in the string using the given translation table.\n",
      " |      \n",
      " |        table\n",
      " |          Translation table, which must be a mapping of Unicode ordinals to\n",
      " |          Unicode ordinals, strings, or None.\n",
      " |      \n",
      " |      The table must implement lookup/indexing via __getitem__, for instance a\n",
      " |      dictionary or list.  If this operation raises LookupError, the character is\n",
      " |      left untouched.  Characters mapped to None are deleted.\n",
      " |  \n",
      " |  upper(self, /)\n",
      " |      Return a copy of the string converted to uppercase.\n",
      " |  \n",
      " |  zfill(self, width, /)\n",
      " |      Pad a numeric string with zeros on the left, to fill a field of the given width.\n",
      " |      \n",
      " |      The string is never truncated.\n",
      " |  \n",
      " |  ----------------------------------------------------------------------\n",
      " |  Static methods defined here:\n",
      " |  \n",
      " |  __new__(*args, **kwargs) from builtins.type\n",
      " |      Create and return a new object.  See help(type) for accurate signature.\n",
      " |  \n",
      " |  maketrans(...)\n",
      " |      Return a translation table usable for str.translate().\n",
      " |      \n",
      " |      If there is only one argument, it must be a dictionary mapping Unicode\n",
      " |      ordinals (integers) or characters to Unicode ordinals, strings or None.\n",
      " |      Character keys will be then converted to ordinals.\n",
      " |      If there are two arguments, they must be strings of equal length, and\n",
      " |      in the resulting dictionary, each character in x will be mapped to the\n",
      " |      character at the same position in y. If there is a third argument, it\n",
      " |      must be a string, whose characters will be mapped to None in the result.\n",
      "\n"
     ]
    }
   ],
   "source": [
    "# For any code you want, you can use either way\n",
    "\n",
    "str?\n",
    "help(str)"
   ]
  },
  {
   "cell_type": "markdown",
   "metadata": {},
   "source": [
    "### Boolean operators\n",
    "* **and, or, not** are Boolean operators. You can also count **is**."
   ]
  },
  {
   "cell_type": "code",
   "execution_count": 25,
   "metadata": {},
   "outputs": [
    {
     "name": "stdout",
     "output_type": "stream",
     "text": [
      "[0, 1, 2, 3, 4]\n",
      "[1, 6, 11]\n"
     ]
    }
   ],
   "source": [
    "range(5) # a range object\n",
    "print(list(range(5)))\n",
    "print(list(range(1,13,5)))"
   ]
  },
  {
   "cell_type": "code",
   "execution_count": 26,
   "metadata": {},
   "outputs": [
    {
     "data": {
      "text/plain": [
       "2"
      ]
     },
     "execution_count": 26,
     "metadata": {},
     "output_type": "execute_result"
    }
   ],
   "source": [
    "15 / 7 # float division. Output: 2.142...(float)\n",
    "15 // 7 # integer dvision. Outputs: 2 (integer)"
   ]
  },
  {
   "cell_type": "code",
   "execution_count": 26,
   "metadata": {},
   "outputs": [
    {
     "name": "stdout",
     "output_type": "stream",
     "text": [
      "2171.0\n",
      "(3,)\n",
      "[2.64575131 5.         6.40312424] <class 'numpy.ndarray'>\n"
     ]
    }
   ],
   "source": [
    "import numpy as np\n",
    "x = np.array([45,234,6234])\n",
    "print(x.mean()) #average \n",
    "print(x.shape) # number of numbers\n",
    "a = np.sqrt([7, 25, 41]) # You cannot do this with math.sqrt()\n",
    "print(a,type(a))"
   ]
  },
  {
   "cell_type": "markdown",
   "metadata": {},
   "source": [
    "Notice that we have () for mean while we don't for shape because *mean* is a **function** while *shape* is a **data attribute**. *Methods* are **functions** associated with objects, whereas *data attributes* are data associated with objects. We have square functions from both modules math and numpy. Even though they work exactly the same, they are different beccause they belong to different **namespaces**."
   ]
  },
  {
   "cell_type": "code",
   "execution_count": 13,
   "metadata": {},
   "outputs": [
    {
     "name": "stdout",
     "output_type": "stream",
     "text": [
      "[0, 2, 4, 6, 8, 10, 12, 14, 16, 18, 20, 0, 1, 4, 9, 16, 25, 36, 49, 64, 81, 100]\n",
      "[0, 3, 8, 15, 24, 35, 48, 63, 80, 99, 120]\n"
     ]
    }
   ],
   "source": [
    "a,b = [2*i for i in range(11)], [i**2 for i in range(11)]\n",
    "c = a + b #combines the elements in both lists\n",
    "print(c)\n",
    "\n",
    "d = [2*i+i**2 for i in range(11)] # adds members 1 by 1 like vector summation\n",
    "print(d) \n",
    "\n",
    "e = [a[i]+b[i] for i in range(11)] # alternatively\n",
    "\n",
    "assert e == d # gives nothing since it is true"
   ]
  },
  {
   "cell_type": "markdown",
   "metadata": {},
   "source": [
    "Notice that I didn't use append() but **list comprehension**"
   ]
  },
  {
   "cell_type": "markdown",
   "metadata": {},
   "source": [
    "A **sequence** is a collection of objects **ordered by their position**. Three types: Lists, tuples, and \"range objects\". Lists are mutable (changable) while tuples, ranges and strings are not."
   ]
  },
  {
   "cell_type": "code",
   "execution_count": 13,
   "metadata": {},
   "outputs": [
    {
     "name": "stdout",
     "output_type": "stream",
     "text": [
      "5.0\n"
     ]
    }
   ],
   "source": [
    "from math import sqrt # instead of 'import math'\n",
    "print (sqrt(25))\n",
    "# Notice that you the function name is not 'math.sqrt' but 'sqrt'"
   ]
  },
  {
   "cell_type": "markdown",
   "metadata": {},
   "source": [
    "Instead of importing all functions in a library, you can spesifically choose the function you want to import."
   ]
  },
  {
   "cell_type": "markdown",
   "metadata": {},
   "source": [
    "### Lists"
   ]
  },
  {
   "cell_type": "code",
   "execution_count": 12,
   "metadata": {},
   "outputs": [
    {
     "name": "stdout",
     "output_type": "stream",
     "text": [
      "7\n"
     ]
    }
   ],
   "source": [
    "n = 100\n",
    "n_times = 0\n",
    "while n >= 1:\n",
    "    n //= 2 # n = n//2 and it returns integer\n",
    "    n_times += 1\n",
    "print(n_times)"
   ]
  },
  {
   "cell_type": "code",
   "execution_count": 32,
   "metadata": {},
   "outputs": [
    {
     "name": "stdout",
     "output_type": "stream",
     "text": [
      "[3, 'Ege']\n"
     ]
    }
   ],
   "source": [
    "l = [3,\"Ege\",5.7,1]\n",
    "a = l[0:2]\n",
    "print(a)"
   ]
  },
  {
   "cell_type": "markdown",
   "metadata": {},
   "source": [
    "// operation differes from / such that it **gives only integer values**."
   ]
  },
  {
   "cell_type": "code",
   "execution_count": 11,
   "metadata": {},
   "outputs": [
    {
     "data": {
      "text/plain": [
       "[1, 3, 5, 7, 9, 11]"
      ]
     },
     "execution_count": 11,
     "metadata": {},
     "output_type": "execute_result"
    }
   ],
   "source": [
    "list(range(1,13,2)) # you already know how to determine where to start such as range(1,5)"
   ]
  },
  {
   "cell_type": "code",
   "execution_count": 1,
   "metadata": {},
   "outputs": [
    {
     "name": "stdout",
     "output_type": "stream",
     "text": [
      "[1, 8, 2, 7, 9]\n"
     ]
    }
   ],
   "source": [
    "x = [1,6,8,2,7,9]\n",
    "\n",
    "x.remove(6)\n",
    "\n",
    "print(x)"
   ]
  },
  {
   "cell_type": "markdown",
   "metadata": {},
   "source": [
    "Note that if the object in the argument appears on the list multiple times, remove function only remove its first appearance."
   ]
  },
  {
   "cell_type": "markdown",
   "metadata": {},
   "source": [
    "### Tuples"
   ]
  },
  {
   "cell_type": "code",
   "execution_count": 8,
   "metadata": {},
   "outputs": [],
   "source": [
    "tuple = [(0,0),(1,4),(5,6)]\n",
    "\n",
    "for i in tuple:\n",
    "    print(i)\n",
    "\n",
    "for (x,y) in tuple: # you could use type 'for x,y in...' instead\n",
    "    print(x,y)\n",
    "    \n",
    "not_tuple = (\"Ege\")\n",
    "type(not_tuple) # returns 'string'\n",
    "\n",
    "a_tuple = (\"Ege\",)\n",
    "type(a_tuple) #returns 'tuple'"
   ]
  },
  {
   "cell_type": "markdown",
   "metadata": {},
   "source": [
    "A code such as a[1]=4 would give error because a is not a list but a tuple. Tuples, unlike lists, are immutable."
   ]
  },
  {
   "cell_type": "markdown",
   "metadata": {},
   "source": [
    "**Important:** You can ask why use immutable objects (tuples and ranges) if we have immutable objects (lists). We use because **immutable objects take up less memory than mutable objects** since they do not hold all elements simultaneously."
   ]
  },
  {
   "cell_type": "markdown",
   "metadata": {},
   "source": [
    "### Sets\n",
    "\n",
    "**Sets:** unordered, distinct, hashable collection of objects. Type types: sets and frozen sets. **Frozen sets are immutable.**"
   ]
  },
  {
   "cell_type": "code",
   "execution_count": 25,
   "metadata": {},
   "outputs": [
    {
     "name": "stdout",
     "output_type": "stream",
     "text": [
      "{1, 10, 5, 6}\n",
      "{10, 5, 6}\n"
     ]
    }
   ],
   "source": [
    "my_set = set([1,5,6,6]) #Notice there is [], otherwise, it'd give error.\n",
    "\n",
    "my_set.add(10) # similar to append() in lists and tuples, we have add() for sets\n",
    "print(my_set)\n",
    "\n",
    "my_set.pop() # removes a member from the set. IF you don't spesify the member, it'll choose randomly\n",
    "print(my_set)"
   ]
  },
  {
   "cell_type": "code",
   "execution_count": 26,
   "metadata": {},
   "outputs": [
    {
     "name": "stdout",
     "output_type": "stream",
     "text": [
      "A =  {0, 1, 2, 3, 4, 5, 6, 7, 8, 9}\n",
      "B =  {1, 2, 11, 5}\n",
      "Difference: C = A\\B =  {0, 3, 4, 6, 7, 8, 9}\n",
      "Union: BuC =  {0, 1, 2, 3, 4, 5, 6, 7, 8, 9, 11}\n",
      "Intersection: B,D =  {1, 2, 11, 5}\n"
     ]
    }
   ],
   "source": [
    "# Operations on Sets\n",
    "a = set(range(10))\n",
    "print(\"A = \",a)\n",
    "b = set([1,2,5,11])\n",
    "print(\"B = \",b)\n",
    "c = a - b # difference\n",
    "print(\"Difference: C = A\\B = \",c)\n",
    "d = b | c # union\n",
    "print(\"Union: BuC = \",d)\n",
    "e = b & d # intersection\n",
    "print(\"Intersection: B,D = \",e)"
   ]
  },
  {
   "cell_type": "code",
   "execution_count": 24,
   "metadata": {},
   "outputs": [
    {
     "name": "stdout",
     "output_type": "stream",
     "text": [
      "{'n', 'e', 'i', 'a', 'y', 'A', 'h', 'c', 'g', ' ', 'l', 's', 't', 'o'}\n"
     ]
    }
   ],
   "source": [
    "h = \"Antialiasing technology\"\n",
    "b = set(h) # Be careful! the set also containts 'empty space'\n",
    "print(b)"
   ]
  },
  {
   "cell_type": "code",
   "execution_count": 23,
   "metadata": {},
   "outputs": [
    {
     "name": "stdout",
     "output_type": "stream",
     "text": [
      "{0, 4}\n",
      "True\n",
      "False\n"
     ]
    }
   ],
   "source": [
    "# Additional operations on sets\n",
    "\n",
    "x = {1,2,3}\n",
    "y = set(range(5))\n",
    "print(x.symmetric_difference(y)) # output is {0,4}\n",
    "print(x.issubset(y)) # determines whether x is a subset of y. In other words, whether  whether all elements in x are also in y\n",
    "print(x in y) # determines whether x is a member of y"
   ]
  },
  {
   "cell_type": "markdown",
   "metadata": {},
   "source": [
    "**x.symmetric_difference(y)** is equivalent to **(x | y) - (x & y)**"
   ]
  },
  {
   "cell_type": "markdown",
   "metadata": {},
   "source": [
    "You can use sets to determine how many distinct letter are in a sentence"
   ]
  },
  {
   "cell_type": "markdown",
   "metadata": {},
   "source": [
    "### Strings"
   ]
  },
  {
   "cell_type": "code",
   "execution_count": 1,
   "metadata": {},
   "outputs": [
    {
     "name": "stdout",
     "output_type": "stream",
     "text": [
      "one two 2 3\n"
     ]
    }
   ],
   "source": [
    "a = '%s %s' % ('one','two')\n",
    "b = '%d %d' % (2,3)\n",
    "print(a, b)"
   ]
  },
  {
   "cell_type": "code",
   "execution_count": 10,
   "metadata": {},
   "outputs": [
    {
     "name": "stdout",
     "output_type": "stream",
     "text": [
      "t\n",
      "VirtueVirtueVirtue\n",
      "pine Frey\n",
      "['Tine', 'Frey']\n"
     ]
    },
    {
     "data": {
      "text/plain": [
       "True"
      ]
     },
     "execution_count": 10,
     "metadata": {},
     "output_type": "execute_result"
    }
   ],
   "source": [
    "S = \"Virtue\"\n",
    "print(S[3])\n",
    "print(3*S) # instead of 'S+S+S'\n",
    "\n",
    "print(\"Tine Frey\".replace(\"T\",\"p\")) #or define a new variable new_name = \"Tine Frey\".replace(\"T\",\"p\")\n",
    "\n",
    "print(\"Tine Frey\".split(\" \"))\n",
    "\n",
    "\"\".join(str(i) for i in range(10)) #combines objects\n",
    "\n",
    "import string\n",
    "\n",
    "string.digits # returns string'0123456789'\n",
    "\n",
    "string.digits.isdecimal() #'isdecimal()' tests whether a string only contains digits"
   ]
  },
  {
   "cell_type": "code",
   "execution_count": 4,
   "metadata": {},
   "outputs": [
    {
     "name": "stdout",
     "output_type": "stream",
     "text": [
      "-0.7312715117751976 0.8474337369372327\n"
     ]
    }
   ],
   "source": [
    "import random\n",
    "\n",
    "random.seed(1) #fixes the value of random number\n",
    "\n",
    "# But if you put random under for-loop it will give different numbers\n",
    "\n",
    "a = random.uniform(-1,1) # gives a random number between -1 and 1\n",
    "\n",
    "b = random.random() # gives a random number\n",
    "\n",
    "c = random.choice([3, 634, 47546, 'Ege']) # gives a \"random\" element among the list\n",
    "\n",
    "print(a,b,c)"
   ]
  },
  {
   "cell_type": "code",
   "execution_count": 20,
   "metadata": {},
   "outputs": [
    {
     "name": "stdout",
     "output_type": "stream",
     "text": [
      "    asd adad asdd    \n",
      "asd adad asdd\n"
     ]
    }
   ],
   "source": [
    "s = \"    asd adad asdd    \"\n",
    "print(s)\n",
    "print(s.strip()) # strip() removes spaces at the beginning and the end"
   ]
  },
  {
   "cell_type": "code",
   "execution_count": 30,
   "metadata": {},
   "outputs": [
    {
     "name": "stdout",
     "output_type": "stream",
     "text": [
      "EGE ege\n"
     ]
    }
   ],
   "source": [
    "s = \"Ege\"\n",
    "a = s.upper()\n",
    "b = s.lower()\n",
    "print(a,b)"
   ]
  },
  {
   "cell_type": "markdown",
   "metadata": {},
   "source": [
    "### List Comprehension"
   ]
  },
  {
   "cell_type": "code",
   "execution_count": 79,
   "metadata": {},
   "outputs": [
    {
     "name": "stdout",
     "output_type": "stream",
     "text": [
      "['', 1, '', 3, '', 5, '', 7, '', 9]\n",
      "[1, 3, 5, 7, 9]\n"
     ]
    }
   ],
   "source": [
    "a = [i if i%2 != 0 else '' for i in range(10)] # if you're using both if&else, write before for-loop\n",
    "print(a)\n",
    "a = [i for i in range(10) if i%2 != 0] # if you're using only if, write after for-loop\n",
    "print(a)"
   ]
  },
  {
   "cell_type": "markdown",
   "metadata": {},
   "source": [
    "## Dictionaries\n",
    "* Dictionaries unordered. Therefore, looping in a dictionary give arbitrary key or value i.e. dict[0] is undefined.\n",
    "* Dictionary **keys are not mutable** while values are. In other words, you cannot change a key in a dictionary. "
   ]
  },
  {
   "cell_type": "code",
   "execution_count": 7,
   "metadata": {},
   "outputs": [
    {
     "name": "stdout",
     "output_type": "stream",
     "text": [
      "Ege\n",
      "dict_keys(['Name', 'Age', 'Status']) <class 'dict_keys'>\n",
      "dict_values(['Ege', 25, \"bachelor or single. I don't know. What are you asking?\"])\n",
      "dict_items([('Name', 'Ege'), ('Age', 25), ('Status', \"bachelor or single. I don't know. What are you asking?\")])\n"
     ]
    }
   ],
   "source": [
    "# A little reminder\n",
    "dict_1 = {\"Name\":\"Ege\", \"Age\":24, \"Status\":\"bachelor or single. I don't know. What are you asking?\"}\n",
    "print(dict_1[\"Name\"]) # outputs the value of the key in the argument\n",
    "keys = dict_1.keys()\n",
    "print(keys,type(keys))\n",
    "values = dict_1.values()\n",
    "dict_1[\"Age\"] += 1\n",
    "print(values) # Notice that 'Age' has changed\n",
    "print(dict_1.items())"
   ]
  },
  {
   "cell_type": "markdown",
   "metadata": {},
   "source": [
    "There are two ways to create a dictionary:\n",
    "1. Create two lists, combine them using zip() and turn the resultant list into dictionary using dict()\n",
    "2. Simply define a key and value."
   ]
  },
  {
   "cell_type": "code",
   "execution_count": 4,
   "metadata": {},
   "outputs": [
    {
     "name": "stdout",
     "output_type": "stream",
     "text": [
      "[(1, 'a'), (2, 'b'), (3, 'c')]\n",
      "{1: 'a', 2: 'b', 3: 'c'} <class 'dict'>\n"
     ]
    }
   ],
   "source": [
    "# 1.Method\n",
    "\n",
    "# What zip() does is that it matches elements in a list 1 by 1\n",
    "s1 = [1,2,3]\n",
    "s2 = [\"a\",\"b\",\"c\"]\n",
    "k = list(zip(s1,s2))\n",
    "print(k)\n",
    "\n",
    "# You can easily create a dictionary from a zipped list\n",
    "l = dict(k)\n",
    "print(l,type(l))"
   ]
  },
  {
   "cell_type": "code",
   "execution_count": 1,
   "metadata": {},
   "outputs": [
    {
     "name": "stdout",
     "output_type": "stream",
     "text": [
      "{'First key': 'First value'}\n"
     ]
    }
   ],
   "source": [
    "# 2.Method\n",
    "\n",
    "dict_ex = {}\n",
    "dict_ex[\"First key\"] = \"First value\" # This creates a key and a value\n",
    "print(dict_ex)"
   ]
  },
  {
   "cell_type": "code",
   "execution_count": 1,
   "metadata": {},
   "outputs": [
    {
     "name": "stdout",
     "output_type": "stream",
     "text": [
      "b 31\n",
      "a 25\n",
      "d 14\n",
      "c 61\n",
      "d 14\n",
      "c 61\n",
      "b 31\n",
      "a 25\n"
     ]
    }
   ],
   "source": [
    "dict_1 = {\"b\":31,\"a\":25,\"d\":14,\"c\":61}\n",
    "\n",
    "for i in dict_1: # dict_1.keys()'d give the same output\n",
    "    print(i,dict_1[i])\n",
    "\n",
    "for i in sorted(dict_1, reverse=True): #sorted() function sorts the members alphabetically. If you put reverse, it'd reverse it.\n",
    "    print(i,dict_1[i])"
   ]
  },
  {
   "cell_type": "code",
   "execution_count": 16,
   "metadata": {},
   "outputs": [
    {
     "name": "stdout",
     "output_type": "stream",
     "text": [
      "{'J': 1, 'i': 5, 'm': 1, 'q': 1, 'u': 3, 'c': 1, 'k': 1, 'l': 3, 'y': 1, 'r': 2, 'e': 8, 'a': 4, 'z': 1, 'd': 1, 't': 4, 'h': 2, 'b': 1, 'f': 1, 'g': 1, 'o': 1, 'w': 1, 'n': 2, 's': 2, 'x': 1, 'p': 1, 'v': 1}\n"
     ]
    }
   ],
   "source": [
    "# belongs to Uğur\n",
    "\n",
    "from string import ascii_letters \n",
    "\n",
    "\n",
    "alphabet = ascii_letters # lowercase and uppercase letters\n",
    "\n",
    "sentence = 'Jim quickly realized that the beautiful gowns are expensive'\n",
    "\n",
    "count_letters = {}\n",
    "for i in sentence:\n",
    "    if i in alphabet: # This part is unnecessary if we know all characters are letters.\n",
    "        if i in count_letters.keys():\n",
    "            count_letters[i] += 1\n",
    "        else:\n",
    "            count_letters[i] = 1 # Important: This automatically creates a key value\n",
    "\n",
    "print(count_letters)"
   ]
  },
  {
   "cell_type": "markdown",
   "metadata": {},
   "source": [
    "### Defining Functions"
   ]
  },
  {
   "cell_type": "code",
   "execution_count": 3,
   "metadata": {},
   "outputs": [
    {
     "name": "stdout",
     "output_type": "stream",
     "text": [
      "b\n",
      "False\n"
     ]
    }
   ],
   "source": [
    "def is_vowel(letter):\n",
    "    print(letter)\n",
    "    if letter in \"aeiouy\": # important part\n",
    "        return(True)\n",
    "    else:\n",
    "        return(False)\n",
    "\n",
    "print(is_vowel(\"b\"))"
   ]
  },
  {
   "cell_type": "code",
   "execution_count": 15,
   "metadata": {},
   "outputs": [
    {
     "name": "stdout",
     "output_type": "stream",
     "text": [
      "5 to the 1.24 is equal to 7.357373527816242.\n",
      "7.357373527816242\n"
     ]
    }
   ],
   "source": [
    "def power(base, exponent):\n",
    "    power = base ** exponent\n",
    "    print(\"%s to the %s is equal to %s.\" %(base, exponent, power))\n",
    "    return power\n",
    "\n",
    "print(power(5,1.24))"
   ]
  },
  {
   "cell_type": "markdown",
   "metadata": {},
   "source": [
    "**Note:** we use **%d** for **interegers**, **%s** for **floats**"
   ]
  },
  {
   "cell_type": "markdown",
   "metadata": {},
   "source": [
    "### Dynamic Typing\n",
    "\n",
    "Some programming languages are **statically typed like C or C++**, and some are **dynamically typed like Python**.\n",
    "* Static Typing: type checking is performed during compile time\n",
    "* Dynamic Typing: type checking is performed at runtime"
   ]
  },
  {
   "cell_type": "code",
   "execution_count": 81,
   "metadata": {},
   "outputs": [
    {
     "name": "stdout",
     "output_type": "stream",
     "text": [
      "3 2\n"
     ]
    }
   ],
   "source": [
    "x = 3\n",
    "y = x\n",
    "y = y - 1\n",
    "print(x,y)"
   ]
  },
  {
   "cell_type": "markdown",
   "metadata": {},
   "source": [
    " Consider the above code. Python first creates the object 3, then create the variable x, and finallly insert a reference from the name of the variable to the actual object. After that, Python insert a reference from y to 3, remember a variable cannot reference to another variable. Finally, it creates a new object 2, delete the previous reference from y to 3 and instead create reference to 2 from y."
   ]
  },
  {
   "cell_type": "code",
   "execution_count": 83,
   "metadata": {},
   "outputs": [
    {
     "name": "stdout",
     "output_type": "stream",
     "text": [
      "[7, 3, 4]\n"
     ]
    }
   ],
   "source": [
    "l1 = [2,3,4]\n",
    "l2 = l1\n",
    "l1[0] = 7\n",
    "\n",
    "print(l2)"
   ]
  },
  {
   "cell_type": "markdown",
   "metadata": {},
   "source": [
    " Consider the above code. When you look at the code, you may get the impression that only the l1 list is modified but l2 stays the same such that we have two different list at the end. However, that's not the case because, ***unlike the first case, the object is mutable (3 is immutable)**. Therefore, *l1[0]=7* does not change the variable name but the object itself."
   ]
  },
  {
   "cell_type": "code",
   "execution_count": 120,
   "metadata": {},
   "outputs": [
    {
     "data": {
      "text/plain": [
       "False"
      ]
     },
     "execution_count": 120,
     "metadata": {},
     "output_type": "execute_result"
    }
   ],
   "source": [
    "L1 =[1,2,3]\n",
    "L2 = L1\n",
    "L2 is L1 # returns True\n",
    "\n",
    "L3 = [1,2,3]\n",
    "L3 == L1 # returns True\n",
    "L3 is L1 # returns False\n",
    "\n",
    "# You can check id's by id() and you see that they are not equal.\n",
    "\n",
    "2.0 == 2 # returns True"
   ]
  },
  {
   "cell_type": "markdown",
   "metadata": {},
   "source": [
    "* **==** tests whether two objects have the **same value**\n",
    "* **is** tests whethet two objects are **identical**."
   ]
  },
  {
   "cell_type": "code",
   "execution_count": 121,
   "metadata": {},
   "outputs": [
    {
     "data": {
      "text/plain": [
       "True"
      ]
     },
     "execution_count": 121,
     "metadata": {},
     "output_type": "execute_result"
    }
   ],
   "source": [
    "def modify(mylist):\n",
    "    mylist[0] *= 10\n",
    "    return(mylist)\n",
    "\n",
    "L = [1, 3, 5, 7, 9]\n",
    "M = modify(L)\n",
    "M is L # returns True"
   ]
  },
  {
   "cell_type": "markdown",
   "metadata": {},
   "source": [
    "Here's why. Since **L is a mutable object**, modify() directly alters L. **Since M = L this means M is L.** Of course, if we said M = [10, 3, 5, 7, 9], then M was not L anymore."
   ]
  },
  {
   "cell_type": "markdown",
   "metadata": {},
   "source": [
    "Link: https://stackoverflow.com/questions/4081561/what-is-the-difference-between-list-and-list-in-python"
   ]
  },
  {
   "cell_type": "markdown",
   "metadata": {},
   "source": [
    "### Copies\n",
    "\n",
    " Consider a variable x. A **shallow copy** is a copy of x that **refers to the same original objects**. While a **deep copy** refers to the the copies of the previously referred objects."
   ]
  },
  {
   "cell_type": "code",
   "execution_count": 86,
   "metadata": {},
   "outputs": [
    {
     "data": {
      "text/plain": [
       "False"
      ]
     },
     "execution_count": 86,
     "metadata": {},
     "output_type": "execute_result"
    }
   ],
   "source": [
    "import copy\n",
    "x = [1,[2]]\n",
    "y = copy.copy(x) # shallow copy\n",
    "z = copy.deepcopy(x) # deep copy\n",
    "y is z # returns False"
   ]
  },
  {
   "cell_type": "markdown",
   "metadata": {},
   "source": [
    "### Reading and Writing a file"
   ]
  },
  {
   "cell_type": "code",
   "execution_count": 14,
   "metadata": {},
   "outputs": [
    {
     "name": "stdout",
     "output_type": "stream",
     "text": [
      "first line\n",
      "\n",
      "second line\n",
      "\n",
      "third line\n"
     ]
    }
   ],
   "source": [
    "f = \"input.txt\" # generates a file object\n",
    "\n",
    "for line in open(f):\n",
    "    print(line) # Note: gives error if there is no such file"
   ]
  },
  {
   "cell_type": "markdown",
   "metadata": {},
   "source": [
    " Even though we don't see it, we have always a **line break characters** at the end of lines. They cause extra line breaks in processing of the text. There is a way to remove this."
   ]
  },
  {
   "cell_type": "code",
   "execution_count": 112,
   "metadata": {},
   "outputs": [
    {
     "name": "stdout",
     "output_type": "stream",
     "text": [
      "first line\n",
      "second line\n",
      "third line\n"
     ]
    }
   ],
   "source": [
    "for line in open(f):\n",
    "    print(line.rstrip())"
   ]
  },
  {
   "cell_type": "markdown",
   "metadata": {},
   "source": [
    "Note that this does not change the text because **strings are immutable**."
   ]
  },
  {
   "cell_type": "markdown",
   "metadata": {},
   "source": [
    "You can see this invisible line character by the following code"
   ]
  },
  {
   "cell_type": "code",
   "execution_count": 16,
   "metadata": {},
   "outputs": [
    {
     "name": "stdout",
     "output_type": "stream",
     "text": [
      "['first', 'line\\n']\n",
      "['second', 'line\\n']\n",
      "['third', 'line']\n",
      "\n",
      "You see now why rstrip() is important?\n",
      "\n",
      "['first', 'line']\n",
      "['second', 'line']\n",
      "['third', 'line']\n"
     ]
    }
   ],
   "source": [
    "for line in open(f):\n",
    "    print(line.split(\" \")) # '\\n' charahter at the end\n",
    "\n",
    "print(\"\\nYou see now why rstrip() is important?\\n\")\n",
    "    \n",
    "for line in open(f):\n",
    "    line = line.rstrip().split(\" \") # note that this function returns a list not a string\n",
    "    print(line)"
   ]
  },
  {
   "cell_type": "markdown",
   "metadata": {},
   "source": [
    "Now let's create and write a file"
   ]
  },
  {
   "cell_type": "code",
   "execution_count": 108,
   "metadata": {},
   "outputs": [],
   "source": [
    "f2 = open(\"output.txt\",\"w\") # creates a file object\n",
    "f2.write(\"Python\\n\")\n",
    "f2.close()"
   ]
  },
  {
   "cell_type": "markdown",
   "metadata": {},
   "source": [
    "If you want to read it"
   ]
  },
  {
   "cell_type": "code",
   "execution_count": 114,
   "metadata": {},
   "outputs": [
    {
     "name": "stdout",
     "output_type": "stream",
     "text": [
      "Python\n",
      "\n"
     ]
    }
   ],
   "source": [
    "f3 = \"output.txt\"\n",
    "\n",
    "for line in open(f3):\n",
    "    print(line)"
   ]
  },
  {
   "cell_type": "markdown",
   "metadata": {},
   "source": [
    "### Extra Functions"
   ]
  },
  {
   "cell_type": "code",
   "execution_count": 1,
   "metadata": {},
   "outputs": [],
   "source": [
    "import time\n",
    "time.sleep(3)\n",
    "# The code doesn't output anything but it takes 3 seconds to execute"
   ]
  },
  {
   "cell_type": "code",
   "execution_count": null,
   "metadata": {},
   "outputs": [],
   "source": [
    "s = \"Ege\"\n",
    "dir(s) # or 'dir(str)'. You can also use dir() for seeing functions in libraries "
   ]
  },
  {
   "cell_type": "code",
   "execution_count": 4,
   "metadata": {},
   "outputs": [
    {
     "name": "stdout",
     "output_type": "stream",
     "text": [
      "5\n"
     ]
    }
   ],
   "source": [
    " # break code. In order to stop the loop.\n",
    "for i in range(10):\n",
    "    if i == 5:\n",
    "        break\n",
    "print(i) # it prints \"5\""
   ]
  },
  {
   "cell_type": "code",
   "execution_count": 21,
   "metadata": {},
   "outputs": [
    {
     "data": {
      "text/plain": [
       "1"
      ]
     },
     "execution_count": 21,
     "metadata": {},
     "output_type": "execute_result"
    }
   ],
   "source": [
    "x = (1,2,3)\n",
    "x.count(3) # count() counts the number of the object in the argument (i.e. 3) in a listor or tuple (i.e. x)"
   ]
  },
  {
   "cell_type": "markdown",
   "metadata": {},
   "source": [
    "### Scope\n",
    "Scope rules:\n",
    "* Local: the current function you are in\n",
    "* Enclosing Function: the function that called the current function\n",
    "* Global: the module which the function was defined\n",
    "* Built-in: Python's built-in namespace"
   ]
  },
  {
   "cell_type": "code",
   "execution_count": 15,
   "metadata": {},
   "outputs": [
    {
     "name": "stdout",
     "output_type": "stream",
     "text": [
      "[-1, 1, 'I am the new guy in the street']\n"
     ]
    }
   ],
   "source": [
    "def update():\n",
    "    x.append(\"I am the new guy in the street\")\n",
    "\n",
    "x = [-1,1]\n",
    "update()\n",
    "print(x)"
   ]
  },
  {
   "cell_type": "markdown",
   "metadata": {},
   "source": [
    "Consider the example above. What Python does is the following:\n",
    "1. Local: It first looks inside the function update but it cannot find since x is not defined in the function\n",
    "2. Enclosing function: But there is no enclosing function\n",
    "3. Global: Aha! We have found our x, which is [-1,1]"
   ]
  },
  {
   "cell_type": "code",
   "execution_count": 17,
   "metadata": {},
   "outputs": [
    {
     "name": "stdout",
     "output_type": "stream",
     "text": [
      "5\n",
      "5\n",
      "[0, 1, 2, 3]\n",
      "[0, 1, 2, 3]\n"
     ]
    }
   ],
   "source": [
    "x = 5\n",
    "\n",
    "def f():\n",
    "    x = 3\n",
    "    return x\n",
    "\n",
    "print(x) # returns 5\n",
    "f()\n",
    "print(x) # returns 5 as it returned before\n",
    "\n",
    "\n",
    "x = [0,1,2,3]\n",
    "\n",
    "def f():\n",
    "    x = [0,1,2,3,4]\n",
    "    return x\n",
    "\n",
    "print(x) # returns [0,1,2,3]\n",
    "f()\n",
    "print(x) # returns [0,1,2,3] as it returned before"
   ]
  },
  {
   "cell_type": "markdown",
   "metadata": {},
   "source": [
    "You do not lose your way if you follow the rule. In the cases above, f() seems not to affect the result. However, this is not always the case."
   ]
  },
  {
   "cell_type": "code",
   "execution_count": 19,
   "metadata": {
    "scrolled": true
   },
   "outputs": [
    {
     "name": "stdout",
     "output_type": "stream",
     "text": [
      "[0, 1, 2, 3]\n",
      "[0, 1, 2, 3, 4]\n"
     ]
    }
   ],
   "source": [
    "x = [0,1,2,3]\n",
    "\n",
    "def f():\n",
    "    x.append(4)\n",
    "    return x\n",
    "\n",
    "print(x)\n",
    "f()\n",
    "print(x)"
   ]
  },
  {
   "cell_type": "markdown",
   "metadata": {},
   "source": [
    "In this example, f() did change the value of x because the function does not redefine x but only modifies it"
   ]
  },
  {
   "cell_type": "markdown",
   "metadata": {},
   "source": [
    "## Classes and Object-Oriented Programming"
   ]
  },
  {
   "cell_type": "markdown",
   "metadata": {},
   "source": [
    "* A class is a new type of object\n",
    "* Inheritance is a fundamental aspect of object-oriented programming. It means you can define a new object, a new class, that inherits properties from an existing object type.\n",
    "* Introducing a class doesn't create a new object unless the class is called like a definition.\n",
    "* The functions defined inside a class are known as \"instance methods\" because they operate on an instance of the class."
   ]
  },
  {
   "cell_type": "code",
   "execution_count": 15,
   "metadata": {},
   "outputs": [
    {
     "name": "stdout",
     "output_type": "stream",
     "text": [
      "[54, 72, 4, 700, 67]\n",
      "[54, 72, 700, 67]\n",
      "[54, 72, 67]\n"
     ]
    }
   ],
   "source": [
    "class Mylist(list):\n",
    "    def remove_min(self):\n",
    "        self.remove(min(self))\n",
    "    def remove_max(self):\n",
    "        self.remove(max(self))\n",
    "\n",
    "x = [54,72,4,700,67]\n",
    "y = Mylist(x)\n",
    "print(y) # equivalent to x\n",
    "dir(y) # if you print this, you will see that it containt remove_min and remove_max functions\n",
    "y.remove_min() # removes the member with minimum value\n",
    "print(y)\n",
    "y.remove_max() # removes the member with maximum value\n",
    "print(y)"
   ]
  },
  {
   "cell_type": "code",
   "execution_count": null,
   "metadata": {},
   "outputs": [],
   "source": [
    "class NewList(list):\n",
    "    def remove_max(self):\n",
    "        self.remove(max(self))\n",
    "    def append_sum(self):\n",
    "        self.append(sum(self))\n",
    "\n",
    "x = NewList([1,2,3])\n",
    "while max(x) < 10:\n",
    "    x.remove_max()\n",
    "    x.append_sum()\n",
    "\n",
    "print(x)\n",
    "\n",
    "# A code that will never halt"
   ]
  },
  {
   "cell_type": "markdown",
   "metadata": {},
   "source": [
    "### NumPy\n",
    "\n",
    "* Beside to scientific computation and lineer algebra, NumPy is also helpful for integrating codes in C, C++ and Fortran into Python.\n",
    "* Unlike dynamically growing lists, NumPy arrays have a fixed size.\n",
    "* np.empty allocates the requested space but does not initialize it. For very large array this could save you some computation time since Python doesn't need to initialze it."
   ]
  },
  {
   "cell_type": "code",
   "execution_count": 52,
   "metadata": {},
   "outputs": [
    {
     "name": "stdout",
     "output_type": "stream",
     "text": [
      "[5 7 9]\n",
      "[[1 6]\n",
      " [3 3]\n",
      " [4 7]]\n",
      "[12  3  4]\n",
      "[12  5]\n"
     ]
    }
   ],
   "source": [
    "import numpy as np\n",
    "\n",
    "zero_vector = np.zeros(5)\n",
    "zero_matrix = np.zeros((5,3))\n",
    "\n",
    "# Unlike lists, you can easily add arrays\n",
    "\n",
    "x = np.array([1,2,3])\n",
    "y = np.array([4,5,6])\n",
    "print(x+y)\n",
    "\n",
    "#if you add array with a number, number will be added to all members of the array\n",
    "print(x+1)\n",
    "\n",
    "\n",
    "# transpose\n",
    "matrix = np.array([[1,3,4],[6,3,7]])\n",
    "transpose = matrix.transpose()\n",
    "print(transpose)\n",
    "\n",
    "# matrices\n",
    "X = np.array([[12,3,4],[5,341,53]])\n",
    "print(X[0,:]) # returns 1st row\n",
    "print(X[:,0]) # returns 1st column"
   ]
  },
  {
   "cell_type": "code",
   "execution_count": 49,
   "metadata": {},
   "outputs": [
    {
     "data": {
      "text/plain": [
       "array([1])"
      ]
     },
     "execution_count": 49,
     "metadata": {},
     "output_type": "execute_result"
    }
   ],
   "source": [
    "x = np.array([1,2,3])\n",
    "x[0:1]"
   ]
  },
  {
   "cell_type": "markdown",
   "metadata": {},
   "source": [
    "#### Indexing NumPy Arrays"
   ]
  },
  {
   "cell_type": "code",
   "execution_count": 75,
   "metadata": {},
   "outputs": [
    {
     "name": "stdout",
     "output_type": "stream",
     "text": [
      "<class 'numpy.ndarray'>\n",
      "[3 7 9] <class 'numpy.ndarray'>\n"
     ]
    }
   ],
   "source": [
    "z = np.array([3,5,7,9])\n",
    "\n",
    "index = [0,2,3] # you could use array, doesn't matter\n",
    "\n",
    "print(z[index],type(z[index])) # prints the member with 0th, 2nd, 3rd index"
   ]
  },
  {
   "cell_type": "code",
   "execution_count": 72,
   "metadata": {},
   "outputs": [
    {
     "name": "stdout",
     "output_type": "stream",
     "text": [
      "[False False  True  True]\n",
      "[7 9]\n",
      "[ 6 56  7]\n"
     ]
    }
   ],
   "source": [
    "print(z > 6) # you can easily print which member of the array is greater than 6\n",
    "\n",
    "# you can see these numbers easily\n",
    "print(z[z>6])\n",
    "\n",
    "k = np.array([3,6, 56, 7]) # IMPORTANT: it must have the same length as z\n",
    "print(k[z>3]) # no different from k>3"
   ]
  },
  {
   "cell_type": "code",
   "execution_count": 81,
   "metadata": {},
   "outputs": [
    {
     "name": "stdout",
     "output_type": "stream",
     "text": [
      "[ 5 22 33]\n",
      "[ 5 22 33 44]\n"
     ]
    }
   ],
   "source": [
    "x = np.array([11,22,33,44])\n",
    "w = x[0:3] # it is called \"slicing\"\n",
    "w[0] = 5\n",
    "print(w) # will print [5 22 33]. everything is normal but..\n",
    "print(x) # the array x also changed. what is going on?"
   ]
  },
  {
   "cell_type": "markdown",
   "metadata": {},
   "source": [
    "If you don't want the original array to change, you need to use **indexing**"
   ]
  },
  {
   "cell_type": "code",
   "execution_count": 80,
   "metadata": {},
   "outputs": [
    {
     "name": "stdout",
     "output_type": "stream",
     "text": [
      "[5 1 2]\n",
      "[11 22 33 44]\n"
     ]
    }
   ],
   "source": [
    "x = np.array([11,22,33,44])\n",
    "w = np.array([0,1,2]) # not slice but index\n",
    "w[0] = 5\n",
    "print(w)\n",
    "print(x) # x remains as it is"
   ]
  },
  {
   "cell_type": "code",
   "execution_count": 88,
   "metadata": {},
   "outputs": [
    {
     "name": "stdout",
     "output_type": "stream",
     "text": [
      "[4 5] [4 5]\n"
     ]
    },
    {
     "data": {
      "text/plain": [
       "False"
      ]
     },
     "execution_count": 88,
     "metadata": {},
     "output_type": "execute_result"
    }
   ],
   "source": [
    "a = np.array([1,2])\n",
    "b = np.array([3,4,5])\n",
    "c = b[1:]\n",
    "print(b[a],c) # they are equivalent\n",
    "b[a] is c # but not identical"
   ]
  },
  {
   "cell_type": "markdown",
   "metadata": {},
   "source": [
    "### Building and Examining NumPy Arrays"
   ]
  },
  {
   "cell_type": "code",
   "execution_count": 102,
   "metadata": {},
   "outputs": [
    {
     "name": "stdout",
     "output_type": "stream",
     "text": [
      "[  0.          11.11111111  22.22222222  33.33333333  44.44444444\n",
      "  55.55555556  66.66666667  77.77777778  88.88888889 100.        ]\n",
      "[ 10.          12.91549665  16.68100537  21.5443469   27.82559402\n",
      "  35.93813664  46.41588834  59.94842503  77.42636827 100.        ]\n",
      "[250.         270.01493472 291.63225989 314.98026247 340.19750004\n",
      " 367.43362307 396.85026299 428.62199143 462.93735614 500.        ]\n"
     ]
    }
   ],
   "source": [
    "# Linearly spaced points\n",
    "ex1 = np.linspace(0,100,10) # 0 and 100 are starting and ending numbers. 10 is the total number of points I want to have\n",
    "print(ex1)\n",
    "\n",
    "# Logarithmically spaced points\n",
    "ex2 = np.logspace(1,2,10) # 1 is the log of the starting point, which is 10. 2 is the log of the ending point, which is 100.\n",
    "print(ex2)\n",
    "\n",
    "ex3 = np.logspace(np.log10(250),np.log10(500), 10)\n",
    "print(ex3)"
   ]
  },
  {
   "cell_type": "code",
   "execution_count": 104,
   "metadata": {},
   "outputs": [
    {
     "name": "stdout",
     "output_type": "stream",
     "text": [
      "(2, 3)\n",
      "6\n"
     ]
    }
   ],
   "source": [
    "x = np.array([[1,2,3],[4,5,6]])\n",
    "print(x.shape) # gives (2,3) which means it has 2 lists where each list has 3 numbers\n",
    "print(x.size) # gives total number of elements"
   ]
  },
  {
   "cell_type": "markdown",
   "metadata": {},
   "source": [
    "NumPy has its own random module"
   ]
  },
  {
   "cell_type": "code",
   "execution_count": 107,
   "metadata": {},
   "outputs": [
    {
     "name": "stdout",
     "output_type": "stream",
     "text": [
      "[0.06547777 0.14431871 0.87605461 0.12634399 0.48153717 0.78247483\n",
      " 0.87444125 0.1812982  0.22858006 0.68235646]\n",
      "True\n",
      "False\n"
     ]
    }
   ],
   "source": [
    "x = np.random.random(10) # generates an array with 10 randomly chosen elements\n",
    "print(x)\n",
    "print(np.any(x > 0.5)) # says whether ther exists an element greater than 0.5\n",
    "print(np.all(x > 0.5)) # says whether all elements are greater than 0.5"
   ]
  },
  {
   "cell_type": "markdown",
   "metadata": {},
   "source": [
    "You can easily write an algorithm to find primes using NumPy"
   ]
  },
  {
   "cell_type": "code",
   "execution_count": 9,
   "metadata": {},
   "outputs": [
    {
     "data": {
      "text/plain": [
       "True"
      ]
     },
     "execution_count": 9,
     "metadata": {},
     "output_type": "execute_result"
    }
   ],
   "source": [
    "import math\n",
    "\n",
    "number = 23\n",
    "sqrt = int(math.sqrt(number)) \n",
    "not np.any([number%i == 0 for i in range(2,sqrt)])"
   ]
  },
  {
   "cell_type": "markdown",
   "metadata": {},
   "source": [
    "## Matplotlib and Pyplot\n",
    " \n",
    "* Matplotlib is a very large library.\n",
    "* Pyplot is a collection of functions that make matplotlib work like matlab. It is also useful for exploring datasets and data visualization.\n",
    "* **key word argument:** an argument supplied to a function by explicitly naming its parameters and spesifying values."
   ]
  },
  {
   "cell_type": "code",
   "execution_count": 4,
   "metadata": {},
   "outputs": [
    {
     "data": {
      "image/png": "[encoded data removed]",
      "text/plain": [
       "<Figure size 432x288 with 1 Axes>"
      ]
     },
     "metadata": {
      "needs_background": "light"
     },
     "output_type": "display_data"
    }
   ],
   "source": [
    "import matplotlib.pyplot as plt\n",
    "\n",
    "# because Python index starts with 0, the first y value is assigned to x=0.\n",
    "\n",
    "plt.plot([0,1,4,9,16]); # IMPORTANT: We put ; because we wanted to get rid of the printing\n",
    "\n",
    "# Plots appear because we are working in IPython shell. In the normal Python shell, we need to add\n",
    "\n",
    "plt.show()"
   ]
  },
  {
   "cell_type": "markdown",
   "metadata": {},
   "source": [
    "You can also controll x values"
   ]
  },
  {
   "cell_type": "code",
   "execution_count": 39,
   "metadata": {},
   "outputs": [
    {
     "data": {
      "image/png": "[encoded data removed]",
      "text/plain": [
       "<Figure size 432x288 with 1 Axes>"
      ]
     },
     "metadata": {
      "needs_background": "light"
     },
     "output_type": "display_data"
    }
   ],
   "source": [
    "import numpy as np\n",
    "\n",
    "x = np.linspace(0,10,20)\n",
    "y = x**2\n",
    "\n",
    "plt.plot(x,y,\"go-\", linewidth=2, markersize=4);\n",
    "# g=green, o = dots, - = line. Alternatively, you can use d for diamonds\n",
    "# linewidth: how thick the plot line is\n",
    "# markersize: the size of points\n",
    "\n",
    "plt.show()"
   ]
  },
  {
   "cell_type": "markdown",
   "metadata": {},
   "source": [
    "* legend\n",
    "* axis\n",
    "* xlabel, ylabel, title\n",
    "* savefig"
   ]
  },
  {
   "cell_type": "code",
   "execution_count": 48,
   "metadata": {},
   "outputs": [
    {
     "data": {
      "image/png": "[encoded data removed]",
      "text/plain": [
       "<Figure size 432x288 with 1 Axes>"
      ]
     },
     "metadata": {
      "needs_background": "light"
     },
     "output_type": "display_data"
    }
   ],
   "source": [
    "x = np.linspace(0,10,20)\n",
    "\n",
    "y1 = x**2\n",
    "\n",
    "y2 = x**1.1\n",
    "\n",
    "plt.plot(x,y1,\"rd--\");\n",
    "plt.plot(x,y2,\"gs-\");\n",
    "\n",
    "plt.xlabel(\"Well, this is x label\")\n",
    "plt.ylabel(\"...and you can guess what this is $y^2$\"); # I used $$ for latex\n",
    "plt.title(\"Niggers\");\n",
    "\n",
    "plt.axis([-0.5,10.5,-5,105]);  #plt.axis([xmin,xmax,ymin,ymax])\n"
   ]
  },
  {
   "cell_type": "code",
   "execution_count": 70,
   "metadata": {},
   "outputs": [
    {
     "data": {
      "image/png": "[encoded data removed]",
      "text/plain": [
       "<Figure size 432x288 with 1 Axes>"
      ]
     },
     "metadata": {
      "needs_background": "light"
     },
     "output_type": "display_data"
    }
   ],
   "source": [
    "x = np.linspace(1,10,20)\n",
    "y1 = np.log(x)\n",
    "y2 = 2**x\n",
    "\n",
    "plt.plot(x,y1,label=\"logarithmic\");\n",
    "plt.plot(x,y2,label=\"exponential\");\n",
    "\n",
    "plt.axis([1,4,0,20]) # in order to spesify the range\n",
    "\n",
    "plt.legend(loc=\"upper left\"); # spesify the location of the legend\n",
    "\n",
    "plt.savefig(\"name of my plot.png\")"
   ]
  },
  {
   "cell_type": "markdown",
   "metadata": {},
   "source": [
    "### Logarithmic Axes\n",
    "\n",
    "For ordinary scale, we have plt.plot() but we can use logarithmic scales\n",
    "\n",
    "* **semilogx()**: plots x-axis on a logarithmic scale\n",
    "* **semilogy()**: plots y-axis on a logarithmic scale\n",
    "* **loglog()**: plots both x and y on a logarithmic scale"
   ]
  },
  {
   "cell_type": "code",
   "execution_count": 79,
   "metadata": {},
   "outputs": [
    {
     "data": {
      "image/png": "[encoded data removed]",
      "text/plain": [
       "<Figure size 432x288 with 1 Axes>"
      ]
     },
     "metadata": {
      "needs_background": "light"
     },
     "output_type": "display_data"
    }
   ],
   "source": [
    "x = np.linspace(1,10,20)\n",
    "y = x**2\n",
    "\n",
    "plt.loglog(x,y,\"bo-\",label=\"parabolic\"); # gives a straight line\n",
    "\n",
    "plt.legend(loc=\"upper left\"); # spesify the location of the legend"
   ]
  },
  {
   "cell_type": "markdown",
   "metadata": {},
   "source": [
    "Notice that due to dots are distributed equally (i.e. linearly), logarithmic scale of dots gives a non-equal distribution. If you instead use np.logspace() instead of linspace, you will get an equally distributed dots"
   ]
  },
  {
   "cell_type": "markdown",
   "metadata": {},
   "source": [
    "### Histograms"
   ]
  },
  {
   "cell_type": "code",
   "execution_count": 121,
   "metadata": {},
   "outputs": [
    {
     "data": {
      "image/png": "[encoded data removed]",
      "text/plain": [
       "<Figure size 432x288 with 1 Axes>"
      ]
     },
     "metadata": {
      "needs_background": "light"
     },
     "output_type": "display_data"
    }
   ],
   "source": [
    "x = np.random.normal(size=1000) # here 'normal' means normal distribution\n",
    "\n",
    "plt.hist(x,density=True,bins=np.linspace(-5,5,21)); # it will give you a normal distribution\n",
    "\n",
    "# 'density=True' normalized the distribution in the sense that the total area is 1.\n",
    "# 'bins=np.linspace(-5,5,20)' spesifies how many means to be shown.\n",
    "# If you think about it, if there are n+1 points, there will be n bins. Thus, in the above example, we have 20 bins."
   ]
  },
  {
   "cell_type": "markdown",
   "metadata": {},
   "source": [
    "#### Gamma Distribution and Subplots\n",
    "* plt.subplot(# of rows, # of columns, the plot number). For instance, plt.subplot(3,3,3) creates the top right plot among 9 subplots.\n",
    "* plt(abc) = plt(a,b,c). You can use any of these."
   ]
  },
  {
   "cell_type": "code",
   "execution_count": 2,
   "metadata": {},
   "outputs": [
    {
     "ename": "NameError",
     "evalue": "name 'np' is not defined",
     "output_type": "error",
     "traceback": [
      "\u001b[1;31m---------------------------------------------------------------------------\u001b[0m",
      "\u001b[1;31mNameError\u001b[0m                                 Traceback (most recent call last)",
      "\u001b[1;32m<ipython-input-2-813c2b553ee9>\u001b[0m in \u001b[0;36m<module>\u001b[1;34m\u001b[0m\n\u001b[1;32m----> 1\u001b[1;33m \u001b[0mx\u001b[0m \u001b[1;33m=\u001b[0m \u001b[0mnp\u001b[0m\u001b[1;33m.\u001b[0m\u001b[0mrandom\u001b[0m\u001b[1;33m.\u001b[0m\u001b[0mgamma\u001b[0m\u001b[1;33m(\u001b[0m\u001b[1;36m2\u001b[0m\u001b[1;33m,\u001b[0m\u001b[1;36m3\u001b[0m\u001b[1;33m,\u001b[0m\u001b[1;36m10000\u001b[0m\u001b[1;33m)\u001b[0m\u001b[1;33m\u001b[0m\u001b[1;33m\u001b[0m\u001b[0m\n\u001b[0m\u001b[0;32m      2\u001b[0m \u001b[1;33m\u001b[0m\u001b[0m\n\u001b[0;32m      3\u001b[0m \u001b[0mplt\u001b[0m\u001b[1;33m.\u001b[0m\u001b[0msubplot\u001b[0m\u001b[1;33m(\u001b[0m\u001b[1;36m2\u001b[0m\u001b[1;33m,\u001b[0m\u001b[1;36m2\u001b[0m\u001b[1;33m,\u001b[0m\u001b[1;36m1\u001b[0m\u001b[1;33m)\u001b[0m\u001b[1;33m;\u001b[0m\u001b[1;33m\u001b[0m\u001b[1;33m\u001b[0m\u001b[0m\n\u001b[0;32m      4\u001b[0m \u001b[0mplt\u001b[0m\u001b[1;33m.\u001b[0m\u001b[0mhist\u001b[0m\u001b[1;33m(\u001b[0m\u001b[0mx\u001b[0m\u001b[1;33m,\u001b[0m \u001b[0mdensity\u001b[0m\u001b[1;33m=\u001b[0m\u001b[1;32mTrue\u001b[0m\u001b[1;33m,\u001b[0m \u001b[0mbins\u001b[0m\u001b[1;33m=\u001b[0m\u001b[1;36m30\u001b[0m\u001b[1;33m)\u001b[0m\u001b[1;33m;\u001b[0m\u001b[1;33m\u001b[0m\u001b[1;33m\u001b[0m\u001b[0m\n\u001b[0;32m      5\u001b[0m \u001b[1;31m# IMPORTANT: 2,2 implies ther are 2 rows, 2 columns so that there are 4 subplots.\u001b[0m\u001b[1;33m\u001b[0m\u001b[1;33m\u001b[0m\u001b[1;33m\u001b[0m\u001b[0m\n",
      "\u001b[1;31mNameError\u001b[0m: name 'np' is not defined"
     ]
    }
   ],
   "source": [
    "x = np.random.gamma(2,3,10000) \n",
    "\n",
    "plt.subplot(2,2,1);\n",
    "plt.hist(x, density=True, bins=30);\n",
    "# IMPORTANT: 2,2 implies ther are 2 rows, 2 columns so that there are 4 subplots.\n",
    "\n",
    "plt.subplot(222);\n",
    "plt.hist(x, density=True, bins=30, cumulative=True);\n",
    "# 'cumulative = True' means y value adds up as it goes along x\n",
    "\n",
    "plt.subplot(2,2,3);\n",
    "plt.hist(x, density=True, bins=30, histtype=\"step\");\n",
    "\n",
    "plt.subplot(2,2,4);\n",
    "\n",
    "plt.hist(x, density=True, bins=50);"
   ]
  },
  {
   "cell_type": "markdown",
   "metadata": {},
   "source": [
    "Use **plt.figure()** to print more than one plot graph."
   ]
  },
  {
   "cell_type": "code",
   "execution_count": 183,
   "metadata": {},
   "outputs": [
    {
     "data": {
      "image/png": "[encoded data removed]",
      "text/plain": [
       "<Figure size 432x288 with 1 Axes>"
      ]
     },
     "metadata": {
      "needs_background": "light"
     },
     "output_type": "display_data"
    },
    {
     "data": {
      "image/png": "[encoded data removed]",
      "text/plain": [
       "<Figure size 432x288 with 1 Axes>"
      ]
     },
     "metadata": {
      "needs_background": "light"
     },
     "output_type": "display_data"
    }
   ],
   "source": [
    "x = np.random.gamma(2,3,10000) \n",
    "\n",
    "plt.hist(x, density=True, bins=30);\n",
    "\n",
    "plt.figure()\n",
    "\n",
    "y = np.random.gamma(2,3,10000) \n",
    "\n",
    "plt.hist(y, density=True, bins=30, cumulative=True);\n",
    "\n"
   ]
  },
  {
   "cell_type": "markdown",
   "metadata": {},
   "source": [
    "Link: https://matplotlib.org/stable/tutorials/introductory/pyplot.html"
   ]
  },
  {
   "cell_type": "markdown",
   "metadata": {},
   "source": [
    "## Randomness"
   ]
  },
  {
   "cell_type": "code",
   "execution_count": 7,
   "metadata": {},
   "outputs": [
    {
     "data": {
      "text/plain": [
       "6"
      ]
     },
     "execution_count": 7,
     "metadata": {},
     "output_type": "execute_result"
    }
   ],
   "source": [
    "import random\n",
    "\n",
    "random.choice(range(1,7)) # IMPORTANT: do not write range in list!"
   ]
  },
  {
   "cell_type": "markdown",
   "metadata": {},
   "source": [
    "You can try interesting combinations such as"
   ]
  },
  {
   "cell_type": "code",
   "execution_count": 15,
   "metadata": {},
   "outputs": [
    {
     "data": {
      "text/plain": [
       "12"
      ]
     },
     "execution_count": 15,
     "metadata": {},
     "output_type": "execute_result"
    }
   ],
   "source": [
    "random.choice(random.choice([range(1,7), range(7,10), range(10,15)]))"
   ]
  },
  {
   "cell_type": "code",
   "execution_count": 34,
   "metadata": {},
   "outputs": [
    {
     "data": {
      "text/plain": [
       "[2, 4]"
      ]
     },
     "execution_count": 34,
     "metadata": {},
     "output_type": "execute_result"
    }
   ],
   "source": [
    "random.sample(range(1,7),2) # random(list/range, # of wanted random outputs)"
   ]
  },
  {
   "cell_type": "markdown",
   "metadata": {},
   "source": [
    " In the code below, both a and b are the sums of 10 randomly chosen number between 0-9.\n",
    " \n",
    " They are not equal because **there is no recurring number in output of random.sample** and because we choose 10 random non-equivalent numbers among 10 numbers, a is equal the sum of numbers from 0 to 9, which is 45.\n",
    "\n",
    " On the other hand, we can have arbitrarily many recurring numbers in the other code line."
   ]
  },
  {
   "cell_type": "code",
   "execution_count": 42,
   "metadata": {},
   "outputs": [
    {
     "name": "stdout",
     "output_type": "stream",
     "text": [
      "45 50\n"
     ]
    }
   ],
   "source": [
    "a = sum(random.sample(range(10),10))\n",
    "b = sum(random.choice(range(10)) for i in range(10))\n",
    "print(a,b)"
   ]
  },
  {
   "cell_type": "markdown",
   "metadata": {},
   "source": []
  },
  {
   "cell_type": "markdown",
   "metadata": {},
   "source": [
    "### Examples for Randomness"
   ]
  },
  {
   "cell_type": "markdown",
   "metadata": {},
   "source": [
    "1. Distribution of values of 100 rolled dices"
   ]
  },
  {
   "cell_type": "code",
   "execution_count": 20,
   "metadata": {},
   "outputs": [
    {
     "data": {
      "image/png": "[encoded data removed]",
      "text/plain": [
       "<Figure size 432x288 with 1 Axes>"
      ]
     },
     "metadata": {
      "needs_background": "light"
     },
     "output_type": "display_data"
    },
    {
     "data": {
      "text/plain": [
       "<Figure size 432x288 with 0 Axes>"
      ]
     },
     "metadata": {},
     "output_type": "display_data"
    }
   ],
   "source": [
    "import random\n",
    "import numpy as np\n",
    "import matplotlib.pyplot as plt\n",
    "\n",
    "dice = np.array([1,2,3,4,5,6])\n",
    "\n",
    "random.choice(dice)\n",
    "\n",
    "rolls = [random.choice(dice) for i in range(100)]\n",
    "\n",
    "plt.hist(rolls, density=True, bins=np.linspace(0.5,6.5,7));\n",
    "# Important: we used bins=np.lin... because we don't want any empty space between bins and we know we only have 6 values. Notice that we wrote \"7\" for 6 bins\n",
    "\n",
    "plt.figure();"
   ]
  },
  {
   "cell_type": "markdown",
   "metadata": {},
   "source": [
    "2. We define a value y = x_1 + x_2 + ... x_10 where x_i's are random values of a rolled dice. That means the minimum value for y is 10 since minimum value for any x_i is 1, and the maximum value for y is 60. We want to know the distribution of y values for 1000 repetations. We expect a Normal distribution since there are more possible way for y to have values around the middle than the values at the edges."
   ]
  },
  {
   "cell_type": "code",
   "execution_count": 21,
   "metadata": {},
   "outputs": [
    {
     "data": {
      "image/png": "[encoded data removed]",
      "text/plain": [
       "<Figure size 432x288 with 1 Axes>"
      ]
     },
     "metadata": {
      "needs_background": "light"
     },
     "output_type": "display_data"
    },
    {
     "data": {
      "text/plain": [
       "<Figure size 432x288 with 0 Axes>"
      ]
     },
     "metadata": {},
     "output_type": "display_data"
    }
   ],
   "source": [
    "dice = np.array([1,2,3,4,5,6])\n",
    "\n",
    "ys = []\n",
    "for j in range(1000):\n",
    "    y = 0\n",
    "    rolls = [random.choice(dice) for i in range(10)]\n",
    "    for i in range(len(rolls)):\n",
    "        y += rolls[i]\n",
    "    ys.append(y)\n",
    "    a = ys.count(y)\n",
    "\n",
    "plt.hist(ys, density=True);\n",
    "\n",
    "plt.figure();"
   ]
  },
  {
   "cell_type": "markdown",
   "metadata": {},
   "source": [
    "Note: In the Numpy Random Module section, we rewrote the above code in simpler terms."
   ]
  },
  {
   "cell_type": "markdown",
   "metadata": {},
   "source": [
    "* The Law of Large Numbers: The more repetations we have, the better our graph represent the distribution\n",
    "* The Central Limit Theorem: The distribution of sum of random variables is normal."
   ]
  },
  {
   "cell_type": "code",
   "execution_count": 16,
   "metadata": {},
   "outputs": [
    {
     "data": {
      "text/plain": [
       "(10, 3)"
      ]
     },
     "execution_count": 16,
     "metadata": {},
     "output_type": "execute_result"
    }
   ],
   "source": [
    "np.random.randint(1, 7)\n",
    "x = np.random.randint(1, 7, (10,3))\n",
    "x.shape"
   ]
  },
  {
   "cell_type": "markdown",
   "metadata": {},
   "source": [
    "### Numpy Random Module"
   ]
  },
  {
   "cell_type": "code",
   "execution_count": 2,
   "metadata": {},
   "outputs": [
    {
     "data": {
      "text/plain": [
       "array([[0.0120103 , 0.54889972, 0.28025084],\n",
       "       [0.01082514, 0.972419  , 0.71764279]])"
      ]
     },
     "execution_count": 2,
     "metadata": {},
     "output_type": "execute_result"
    }
   ],
   "source": [
    "import numpy as np\n",
    "\n",
    "np.random.random() # generates a number between 0 and 1\n",
    "\n",
    "np.random.random(5) # generates a list of 5 random numbers\n",
    "\n",
    "np.random.random((2,3)) # generates a matrix with 2 rows, 3 columns of random numbers"
   ]
  },
  {
   "cell_type": "markdown",
   "metadata": {},
   "source": [
    "The standard normal distribution: distribution in which mean is 0, standard deviation is 1."
   ]
  },
  {
   "cell_type": "code",
   "execution_count": 18,
   "metadata": {},
   "outputs": [
    {
     "data": {
      "text/plain": [
       "array([-9.76045010e-01, -5.31694316e-01, -2.99129151e-05,  3.86780801e-01,\n",
       "        4.57636276e-02])"
      ]
     },
     "execution_count": 18,
     "metadata": {},
     "output_type": "execute_result"
    }
   ],
   "source": [
    "np.random.normal(0,1) # picks a number from a normal distribution of numbers between 0 and 1\n",
    "np.random.normal(0,1,5) # generates a list of 5 numbers from a normal distribution between 0 and 1"
   ]
  },
  {
   "cell_type": "code",
   "execution_count": 31,
   "metadata": {},
   "outputs": [
    {
     "name": "stdout",
     "output_type": "stream",
     "text": [
      "[[3 1 3]\n",
      " [6 1 1]\n",
      " [6 2 6]\n",
      " [1 2 5]\n",
      " [4 6 6]\n",
      " [2 4 6]\n",
      " [2 3 3]\n",
      " [4 2 1]\n",
      " [6 4 5]\n",
      " [3 3 5]]\n"
     ]
    }
   ],
   "source": [
    "np.random.randint(1,7) # generates an integer between 1 and 7\n",
    "x = np.random.randint(1,7,(10,3)) # generates a matrix with 10 rows, 3 columns of such numbers\n",
    "print(x)"
   ]
  },
  {
   "cell_type": "markdown",
   "metadata": {},
   "source": [
    "**Important:** x.shape gives us the # of rows and columns"
   ]
  },
  {
   "cell_type": "code",
   "execution_count": 25,
   "metadata": {},
   "outputs": [
    {
     "data": {
      "text/plain": [
       "(10, 3)"
      ]
     },
     "execution_count": 25,
     "metadata": {},
     "output_type": "execute_result"
    }
   ],
   "source": [
    "x.shape"
   ]
  },
  {
   "cell_type": "code",
   "execution_count": 36,
   "metadata": {},
   "outputs": [
    {
     "data": {
      "text/plain": [
       "array([ 7,  8, 14,  8, 16, 12,  8,  7, 15, 11])"
      ]
     },
     "execution_count": 36,
     "metadata": {},
     "output_type": "execute_result"
    }
   ],
   "source": [
    "np.sum(x) # sums all elements in the matrix x\n",
    "np.sum(x, axis=0) # sums all elements in COLUMNS respectively, gives us a row\n",
    "np.sum(x, axis=1) # sums all elements in ROWS respectively, gives a column"
   ]
  },
  {
   "cell_type": "markdown",
   "metadata": {},
   "source": [
    "Now we rewrite the code for summing values of 10 rolled dices in simpler and faster way."
   ]
  },
  {
   "cell_type": "code",
   "execution_count": 17,
   "metadata": {},
   "outputs": [
    {
     "data": {
      "image/png": "[encoded data removed]",
      "text/plain": [
       "<Figure size 432x288 with 1 Axes>"
      ]
     },
     "metadata": {
      "needs_background": "light"
     },
     "output_type": "display_data"
    },
    {
     "data": {
      "text/plain": [
       "<Figure size 432x288 with 0 Axes>"
      ]
     },
     "metadata": {},
     "output_type": "display_data"
    }
   ],
   "source": [
    "import matplotlib.pyplot as plt\n",
    "\n",
    "a = np.random.randint(1,6,(1000,10))\n",
    "\n",
    "b = np.sum(a, axis=1)\n",
    "\n",
    "plt.hist(b, density=True);\n",
    "\n",
    "plt.figure();"
   ]
  },
  {
   "cell_type": "markdown",
   "metadata": {},
   "source": [
    "### Measuring Time"
   ]
  },
  {
   "cell_type": "markdown",
   "metadata": {},
   "source": [
    "**A very important Note:** time.clock() is removed from Python but instead use **time.perf_counter()** or **time.process_time()**.\n",
    "* time.perf_counter(): It does include time elapsed during sleep and is system-wide.\n",
    "* time.process_time(): It does not include time elapsed during sleep. It is process-wide by definition."
   ]
  },
  {
   "cell_type": "code",
   "execution_count": 13,
   "metadata": {},
   "outputs": [
    {
     "data": {
      "text/plain": [
       "3.72000000652406e-05"
      ]
     },
     "execution_count": 13,
     "metadata": {},
     "output_type": "execute_result"
    }
   ],
   "source": [
    "import time\n",
    "\n",
    "start_time = time.perf_counter()\n",
    "\n",
    "end_time = time.perf_counter()\n",
    "\n",
    "end_time - start_time"
   ]
  },
  {
   "cell_type": "code",
   "execution_count": 24,
   "metadata": {},
   "outputs": [
    {
     "data": {
      "text/plain": [
       "0.04368959999987965"
      ]
     },
     "execution_count": 24,
     "metadata": {},
     "output_type": "execute_result"
    },
    {
     "data": {
      "image/png": "[encoded data removed]",
      "text/plain": [
       "<Figure size 432x288 with 1 Axes>"
      ]
     },
     "metadata": {
      "needs_background": "light"
     },
     "output_type": "display_data"
    }
   ],
   "source": [
    "start_time = time.perf_counter()\n",
    "\n",
    "a = np.random.randint(1,6,(1000,10))\n",
    "\n",
    "b = np.sum(a, axis=1)\n",
    "\n",
    "plt.hist(b, density=True);\n",
    "\n",
    "end_time = time.perf_counter()\n",
    "\n",
    "end_time - start_time"
   ]
  },
  {
   "cell_type": "markdown",
   "metadata": {},
   "source": [
    "### Random Walk"
   ]
  },
  {
   "cell_type": "markdown",
   "metadata": {},
   "source": [
    "can be used to model\n",
    "* motion of molecules\n",
    "* spatial trajectory of peope"
   ]
  },
  {
   "cell_type": "code",
   "execution_count": 59,
   "metadata": {},
   "outputs": [
    {
     "data": {
      "image/png": "[encoded data removed]",
      "text/plain": [
       "<Figure size 432x288 with 1 Axes>"
      ]
     },
     "metadata": {
      "needs_background": "light"
     },
     "output_type": "display_data"
    }
   ],
   "source": [
    "delta_X = np.random.normal(0,1,(2,100))\n",
    "\n",
    "plt.plot(delta_X[0], delta_X[1], \"bo\");\n",
    "\n",
    "# Recall that you can save this as plt.savefig(\"rw.pdf\")"
   ]
  },
  {
   "cell_type": "markdown",
   "metadata": {},
   "source": [
    "NumPy has a function called **cumulative sum**"
   ]
  },
  {
   "cell_type": "code",
   "execution_count": 60,
   "metadata": {},
   "outputs": [],
   "source": [
    "X = np.cumsum(delta_X, axis = 1) # 'axis=1' sums the y values"
   ]
  },
  {
   "cell_type": "markdown",
   "metadata": {},
   "source": [
    " **Cumulative sum is important in simulating motion** because if you think about motion is sum of small motions along an arbitrary curve.\n",
    "i.e. x_f = x_i + delta_x1 + delta_x2 + ..."
   ]
  },
  {
   "cell_type": "code",
   "execution_count": 61,
   "metadata": {},
   "outputs": [
    {
     "data": {
      "image/png": "[encoded data removed]",
      "text/plain": [
       "<Figure size 432x288 with 1 Axes>"
      ]
     },
     "metadata": {
      "needs_background": "light"
     },
     "output_type": "display_data"
    }
   ],
   "source": [
    "plt.plot(X[0], X[1], \"ro-\");"
   ]
  },
  {
   "cell_type": "markdown",
   "metadata": {},
   "source": [
    "Suppose we want to add the origion as the starting point of our random walk. How can we add it?"
   ]
  },
  {
   "cell_type": "code",
   "execution_count": 62,
   "metadata": {},
   "outputs": [
    {
     "data": {
      "image/png": "[encoded data removed]",
      "text/plain": [
       "<Figure size 432x288 with 1 Axes>"
      ]
     },
     "metadata": {
      "needs_background": "light"
     },
     "output_type": "display_data"
    }
   ],
   "source": [
    "X_0 = np.array([[0],[0]]) # It is important that we write origin in this form\n",
    "\n",
    "new_X = np.concatenate((X_0, X), axis=1) # X_0 is the first starting point\n",
    "\n",
    "plt.plot(new_X[0],new_X[1], \"go-\");"
   ]
  },
  {
   "cell_type": "markdown",
   "metadata": {},
   "source": [
    "## Nice Algorithms\n",
    " Supposing they are really matrices i.e. each array element has the same length for both matrices, we can generalize write a general algorithm for any matrix multiplication."
   ]
  },
  {
   "cell_type": "code",
   "execution_count": 56,
   "metadata": {},
   "outputs": [
    {
     "name": "stdout",
     "output_type": "stream",
     "text": [
      "3\n",
      "[[[21, 31, 44]], [[51, 83, 103]], [[51, 101, 94]]]\n"
     ]
    }
   ],
   "source": [
    "M1 = [[1,3],[5,6],[11,3]] # 3x2 matrix\n",
    "M2 = [[3,7,5],[6,8,13]] # 2x3 Matrix\n",
    "\n",
    "# The algorithm gives M1*M2\n",
    "\n",
    "M3 = []\n",
    "if len(M1[0]) == len(M2): \n",
    "    for i in range(len(M1)):\n",
    "        d=[]\n",
    "        for j in range(len(M2[0])):\n",
    "            k=0\n",
    "            for m in range(len(M1[0])):\n",
    "                k = k + M1[i][m]*M2[m][j]\n",
    "            d.append(k)\n",
    "        M3.append([d])\n",
    "    print(M3)\n",
    "else:\n",
    "    print(\"Error, the column # of the 1st matrix\",len(M1),\"=/= the row # of the 2nd matrix\",len(M2[1]))"
   ]
  },
  {
   "cell_type": "code",
   "execution_count": 128,
   "metadata": {},
   "outputs": [
    {
     "name": "stdout",
     "output_type": "stream",
     "text": [
      "Type an integer: 47\n",
      "47 is prime\n"
     ]
    }
   ],
   "source": [
    "# Me. An algorithm whether the number you enter is prime.\n",
    "\n",
    "from math import sqrt\n",
    "N = int(input(\"Type an integer: \"))\n",
    "i = 2\n",
    "while i<=sqrt(N):\n",
    "    if N%i == 0:\n",
    "        a = 1\n",
    "        break\n",
    "    else:\n",
    "        i += 1\n",
    "        a = 0\n",
    "if a == 1:\n",
    "    print(N, \"is not prime\")\n",
    "else:\n",
    "    print(N,\"is prime\")"
   ]
  },
  {
   "cell_type": "code",
   "execution_count": 129,
   "metadata": {},
   "outputs": [
    {
     "name": "stdout",
     "output_type": "stream",
     "text": [
      "Enter a number:47\n",
      "True\n"
     ]
    }
   ],
   "source": [
    "# Not Me. A much more simple algorithm for testing prime\n",
    "\n",
    "is_prime = True\n",
    "n = int(input(\"Enter a number:\"))\n",
    "for i in range(2,n):\n",
    "    if n%i == 0:\n",
    "        is_prime = False\n",
    "print(is_prime)"
   ]
  },
  {
   "cell_type": "markdown",
   "metadata": {},
   "source": [
    "The algorithm below gives a list of prime numbers smaller or equal than the number you enter"
   ]
  },
  {
   "cell_type": "code",
   "execution_count": 30,
   "metadata": {},
   "outputs": [
    {
     "name": "stdout",
     "output_type": "stream",
     "text": [
      "Enter an integer:100\n",
      "[2, 3, 5, 7, 11, 13, 17, 19, 23, 29, 31, 37, 41, 43, 47, 53, 59, 61, 67, 71, 73, 79, 83, 89, 97]\n",
      "0.8006108999998105\n",
      "Enter an integer:100\n",
      "[2, 3, 5, 7, 11, 13, 17, 19, 23, 29, 31, 37, 41, 43, 47, 53, 59, 61, 67, 71, 73, 79, 83, 89, 97]\n",
      "0.8978533999998035\n"
     ]
    }
   ],
   "source": [
    "# Partially me.\n",
    "start_time = time.perf_counter()\n",
    "\n",
    "n = int(input(\"Enter an integer:\"))\n",
    "\n",
    "a = []\n",
    "for j in range(2,n+1):\n",
    "    is_prime = True\n",
    "    for i in range(2,j):\n",
    "        if j%i == 0:\n",
    "            is_prime = False\n",
    "            j += 1 # A very important step. If I found current value of j is non-prime, I don't want to deal with it anymore.\n",
    "    if is_prime == True:\n",
    "        a.append(j)\n",
    "\n",
    "print(a)\n",
    "\n",
    "end_time = time.perf_counter()\n",
    "\n",
    "print(end_time - start_time) # counts duration\n",
    "\n",
    "# Alternative\n",
    "start_time = time.perf_counter()\n",
    "b = []\n",
    "N = int(input(\"Enter an integer:\"))\n",
    "for i in range(2,N+1):\n",
    "    n=2\n",
    "    while n<i and i%n != 0:\n",
    "        n += 1\n",
    "    if n == i:\n",
    "        b.append(i)\n",
    "print(b)\n",
    "end_time = time.perf_counter()\n",
    "\n",
    "print(end_time - start_time)"
   ]
  },
  {
   "cell_type": "markdown",
   "metadata": {},
   "source": [
    "The algorithm below creates a ladder of #'s. The important thing is **yield**.Differently from **return**, yield keeps continue executing, besides, it generates a generator, which is an immutable iterator."
   ]
  },
  {
   "cell_type": "code",
   "execution_count": null,
   "metadata": {},
   "outputs": [],
   "source": [
    "def staircase(n):\n",
    "    for j in range(n):\n",
    "        a = \"\"\n",
    "        for i in range(n-j-1):\n",
    "            a = str(a) + \" \"\n",
    "        for i in range(j+1):\n",
    "            a = str(a) + \"#\"\n",
    "        yield a\n",
    "for i in staircase(int(input(\"Enter an integer:\"))):\n",
    "    print(i)"
   ]
  },
  {
   "cell_type": "markdown",
   "metadata": {},
   "source": [
    "The algorithm below calculates the area of ln(x) betwen x=2 and x=3."
   ]
  },
  {
   "cell_type": "code",
   "execution_count": 80,
   "metadata": {},
   "outputs": [
    {
     "name": "stdout",
     "output_type": "stream",
     "text": [
      "Give me a number: 1000\n",
      "with 1000 partions, the approximate area of y=ln(x) from x=2 to x=3 is: 0.9095424909955493\n"
     ]
    }
   ],
   "source": [
    "# The old algorithm\n",
    "\n",
    "N = int(input(\"Give me a number: \"))\n",
    "\n",
    "def f(x):\n",
    "    return math.log(x)\n",
    "\n",
    "y = 0.0\n",
    "i = 0.0\n",
    "dx = 1/N\n",
    "while i<=N: #We used while-loop because we are working with floats\n",
    "    y += f(2+i*dx) # from x=2 to x=3\n",
    "    i += 1\n",
    "print(\"with\", N, \"partions, the approximate area of y=ln(x) from x=2 to x=3 is:\", (y-(math.log(6)/2))*dx)\n",
    "# I printed such a complicated equation since y is the sum of y_0, y_1, ..., y_n and, yet, what the homework wants us to print dx*(y_0/2 + y_1 + y_2 + ... + y_(n-1) + y_n), therefore, i substracted (y(0)+y(n))/2, which is ln(6)/2, from the sum y and then multiply it with dx"
   ]
  },
  {
   "cell_type": "code",
   "execution_count": 85,
   "metadata": {
    "scrolled": true
   },
   "outputs": [
    {
     "name": "stdout",
     "output_type": "stream",
     "text": [
      "Give me a number: 1000000\n",
      "with 1000000 partions, the approximate area of ln(x) from x=2 to x=3 is: 0.9095423021518604\n",
      "the true value: 0.9095425048844386\n",
      "error: 0.20273257816949553\n"
     ]
    }
   ],
   "source": [
    "# The new algorithm (5/17/21)\n",
    "\n",
    "N = int(input(\"Give me a number: \"))\n",
    "\n",
    "def f(x):\n",
    "    return math.log(x)\n",
    "\n",
    "y = 0.0\n",
    "i = 0.0\n",
    "dx = 1/N\n",
    "while i<N: #We used while-loop because we are working with floats\n",
    "    x = 2+i*dx\n",
    "    y += f(x)*dx # from x=2 to x=3\n",
    "    i += 1\n",
    "print(\"with\", N, \"partions, the approximate area of ln(x) from x=2 to x=3 is:\", y)\n",
    "z = 3*f(3) - 2*f(2) - 1\n",
    "print(\"the true value:\",z)\n",
    "print(\"error:\",(z-y)*N)"
   ]
  },
  {
   "cell_type": "markdown",
   "metadata": {},
   "source": [
    "As you can see, the algorithm is very slow :/"
   ]
  },
  {
   "cell_type": "markdown",
   "metadata": {},
   "source": [
    "The code below creates a password by mixing the letters in the word: Language"
   ]
  },
  {
   "cell_type": "code",
   "execution_count": 13,
   "metadata": {},
   "outputs": [
    {
     "data": {
      "text/plain": [
       "'gLegggaeeunuaaaauegaeguganaegguaeneaeaueguaueaaLgnggLLnnLeaa'"
      ]
     },
     "execution_count": 13,
     "metadata": {},
     "output_type": "execute_result"
    }
   ],
   "source": [
    "import random\n",
    "\n",
    "def password(length):\n",
    "    w = \"Language\"\n",
    "    s = str() # similar to creating an empty array\n",
    "    for x in range(length):\n",
    "        r = random.choice(w)\n",
    "        s += r\n",
    "    return s\n",
    "\n",
    "password(60)"
   ]
  },
  {
   "cell_type": "markdown",
   "metadata": {},
   "source": [
    "The algorithm below does the followings respectively:\n",
    "1. fixes the random number by **random.seed(1)**\n",
    "2. defines a function **rand()** that gives a random number between -1 and 1\n",
    "3. defines a function **distance(x,y)** that gives the distance between 2D x and y vectors (lists)\n",
    "4. defines a function **in_circle(x, origin = [0,0])** that gives whether a point whose coordinates are given by x is in the unit circle\n",
    "5. choose R=1000 random points whose x,y values are between -1 and 1, in other words, in a unit square around the origin. Then, if a point is also in the unit circle, it puts a *True* value; if not, then it puts a *False* value into a list called **inside**\n",
    "6. gives the number of True values i.e. the number of points in the unit circle per the total number points R=1000. This is the ratio of area of the unit circle to the unit square, which is pi/4"
   ]
  },
  {
   "cell_type": "code",
   "execution_count": 2,
   "metadata": {},
   "outputs": [
    {
     "name": "stdout",
     "output_type": "stream",
     "text": [
      "0.779 0.006398163397448253\n"
     ]
    }
   ],
   "source": [
    "import random\n",
    "import math\n",
    "\n",
    "random.seed(1)\n",
    "\n",
    "def rand():\n",
    "    return random.uniform(-1,1)\n",
    "\n",
    "def distance(x, y):\n",
    "    a = (y[0] - x[0])**2\n",
    "    b = (y[1] - x[1])**2\n",
    "    return sqrt(a+b)\n",
    "\n",
    "def in_circle(x, origin = [0,0]):\n",
    "    c = distance(origin,x)\n",
    "    if c < 1:\n",
    "        return True\n",
    "    else:\n",
    "        return False\n",
    "\n",
    "inside = []\n",
    "R = 10000\n",
    "for i in range(R):\n",
    "    x = []\n",
    "    for i in range(2):\n",
    "        x.append(rand())\n",
    "    if in_circle(x) == True:\n",
    "        inside.append(True)\n",
    "    else:\n",
    "        inside.append(False)\n",
    "\n",
    "a = 0\n",
    "for i in range(len(inside)):\n",
    "    if inside[i] == True:\n",
    "        a += 1\n",
    "estimate = a/R\n",
    "print(estimate,abs(math.pi / 4 - estimate))"
   ]
  },
  {
   "cell_type": "markdown",
   "metadata": {},
   "source": [
    "# CHECK LATER"
   ]
  },
  {
   "cell_type": "code",
   "execution_count": null,
   "metadata": {},
   "outputs": [],
   "source": [
    "a = np.arange(10)\n",
    "b = np.where(a < 5) # indices\n",
    "print(b)\n",
    "a[b]"
   ]
  },
  {
   "cell_type": "code",
   "execution_count": null,
   "metadata": {},
   "outputs": [],
   "source": [
    "a = np.array([[1, 2, 3], [4, 5, 6]])\n",
    "b = np.where(a < 5) # indices\n",
    "print(b)\n",
    "a[b]"
   ]
  },
  {
   "cell_type": "code",
   "execution_count": 31,
   "metadata": {},
   "outputs": [
    {
     "name": "stdout",
     "output_type": "stream",
     "text": [
      "3, first!\n",
      "2, first!\n",
      "3, second!\n"
     ]
    }
   ],
   "source": [
    "a = np.array([[0,1,3],[0,3,4],[3,3,3]]) # it is important that a is an array\n",
    "if np.all(a = 3):\n",
    "    print(\"3, first!\")\n",
    "if np.all(a = 2):\n",
    "    print(\"2, first!\")\n",
    "\n",
    "if np.any(np.all(a == 3, axis=1)):\n",
    "    print(\"3, second!\")\n",
    "if np.any(np.all(a == 2, axis=1)):\n",
    "    print(\"2, second!\")\n",
    "    \n",
    "if np.all(a == 3):\n",
    "    print(\"3, third!\")\n",
    "if np.all(a == 2):\n",
    "    print(\"2, third!\")"
   ]
  },
  {
   "cell_type": "code",
   "execution_count": 71,
   "metadata": {},
   "outputs": [
    {
     "name": "stdout",
     "output_type": "stream",
     "text": [
      "False a\n",
      "True a\n",
      "False a\n",
      "True a\n",
      "False a\n",
      "True b\n",
      "True b\n",
      "False b\n",
      "True b\n"
     ]
    }
   ],
   "source": [
    "a = np.array([3,3,3])\n",
    "print(np.any(a == 2),\"a\") # must be False, returns False\n",
    "print(np.any(a > 2),\"a\") # must be True, returns True\n",
    "print(np.any(a < 2),\"a\") # must be False, returns False\n",
    "\n",
    "print(np.all(a == 3),\"a\") # must be True, returns True\n",
    "print(np.all(a > 3),\"a\") # must be False, returns False\n",
    "\n",
    "\n",
    "b = np.array([[3,3,3],[2,1,3]])\n",
    "print(np.any(b == 2),\"b\") # must be False, returns True\n",
    "print(np.any(b == 3),\"b\") # must be False, returns True\n",
    "\n",
    "\n",
    "print(np.all(b > 2),\"b\") # must be False, returns False\n",
    "print(np.any(b < 2),\"b\") # must be False, returns True\n",
    "\n"
   ]
  },
  {
   "cell_type": "code",
   "execution_count": 99,
   "metadata": {},
   "outputs": [
    {
     "name": "stdout",
     "output_type": "stream",
     "text": [
      "True\n",
      "True\n",
      "True\n",
      "False\n",
      "[ True False]\n",
      "False\n"
     ]
    }
   ],
   "source": [
    "x = np.array([2,2,2])\n",
    "print(np.all(x==2)) # returns True\n",
    "\n",
    "y = np.array([[2,2,2],[2,2,2]])\n",
    "print(np.all(y == 2)) # returns True\n",
    "print(np.all(y == [2,2,2])) # returns True\n",
    "\n",
    "z = np.array([[2,2,2],[1,1,1]])\n",
    "print(np.all(z == 2)) # Returns False\n",
    "print(np.all(z == [2,2,2])) # returns True"
   ]
  },
  {
   "cell_type": "markdown",
   "metadata": {},
   "source": [
    "The code below checks whether a 3x3 matrix contains a row or column made up of 2's"
   ]
  },
  {
   "cell_type": "code",
   "execution_count": 105,
   "metadata": {},
   "outputs": [
    {
     "name": "stdout",
     "output_type": "stream",
     "text": [
      "True\n",
      "False\n"
     ]
    }
   ],
   "source": [
    "matrix = np.array([[2,2,2],[1,1,1],[2,1,3]]) # a 3x3 matrix\n",
    "\n",
    "row_check = np.all(matrix == 2,axis=1) # gives a list of booleans. If there is a row of 2's, it contains True as an element.\n",
    "print(np.any(row_check)) # checkes whether row_check contains 'True'\n",
    "\n",
    "# The code above checks whether there is any row made up of 2's in the matrix z\n",
    "\n",
    "col_check = np.all(matrix == 2,axis=0) # gives a list of booleans. If there is a column of 2's, it contains True as an element\n",
    "print(np.any(col_check)) # checkes whether col_check contains 'True'\n",
    "\n",
    "# The code above checks whether there is any column made up of 2's in the matrix z"
   ]
  },
  {
   "cell_type": "code",
   "execution_count": null,
   "metadata": {},
   "outputs": [],
   "source": []
  }
 ],
 "metadata": {
  "kernelspec": {
   "display_name": "Python 3",
   "language": "python",
   "name": "python3"
  },
  "language_info": {
   "codemirror_mode": {
    "name": "ipython",
    "version": 3
   },
   "file_extension": ".py",
   "mimetype": "text/x-python",
   "name": "python",
   "nbconvert_exporter": "python",
   "pygments_lexer": "ipython3",
   "version": "3.8.5"
  }
 },
 "nbformat": 4,
 "nbformat_minor": 4
}
